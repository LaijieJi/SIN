{
 "cells": [
  {
   "attachments": {},
   "cell_type": "markdown",
   "metadata": {},
   "source": [
    "# IDA* search"
   ]
  },
  {
   "cell_type": "code",
   "execution_count": 11,
   "metadata": {},
   "outputs": [
    {
     "data": {
      "text/plain": [
       "<matplotlib.collections.PathCollection at 0x7f3ec03bc850>"
      ]
     },
     "execution_count": 11,
     "metadata": {},
     "output_type": "execute_result"
    },
    {
     "data": {
      "image/png": "[encoded data removed]",
      "text/plain": [
       "<Figure size 640x480 with 1 Axes>"
      ]
     },
     "metadata": {},
     "output_type": "display_data"
    }
   ],
   "source": [
    "import matplotlib.pyplot as plt\n",
    "import networkx as nx\n",
    "import pydot\n",
    "# G is a graph represented as an adjancency list. \n",
    "# G is a hash table (dictionary) with each node as a key, and value, the list of adjacent nodes\n",
    "G={'A':['B','C'],'B':['A','D'],'C':['A','E'],'D':['B','E'],'E':['C','D']}\n",
    "W={('A','B'): 2, ('B','A'): 2, ('A', 'C'): 4, ('C','A'): 4, ('C','E'): 1, ('E','C'): 1, ('B','D'): 1, ('D','B'): 1, ('D','E'): 1, ('E','D'): 1}\n",
    "h={\"A\": 3, \"B\": 2, \"C\": 1, \"D\": 1, \"E\": 0}\n",
    "lab_h = {}\n",
    "for i in h: lab_h[i] = str(h[i])\n",
    "nxG=nx.DiGraph(G)\n",
    "nx.set_edge_attributes(nxG, values = W, name = 'weight')\n",
    "source='A'\n",
    "Target=['E']\n",
    "pos_nodes = {'A': (20, 300), 'B': (10, 200), 'C': (30, 200), 'D': (10, 100), 'E': (30, 100)}\n",
    "pos_h = {'A': (18.25, 300), 'B': (8.25, 200), 'C': (31.75, 200), 'D': (8.25, 100), 'E': (31.75, 100)}\n",
    "nx.draw_networkx_edge_labels(nxG, pos=pos_nodes,edge_labels=W,font_size=20,\n",
    "  horizontalalignment=\"left\",verticalalignment=\"bottom\",rotate=False, label_pos=0.5)\n",
    "nx.draw_networkx_labels(nxG, pos_h, labels=lab_h, font_size=20, font_color=\"magenta\")\n",
    "nx.draw(nxG,pos=pos_nodes, with_labels=True, node_color=\"lightgray\", node_size=800, font_size=20)\n",
    "nx.draw_networkx_nodes(nxG,pos=pos_nodes, nodelist=Target, node_color='gray', node_size=800)"
   ]
  },
  {
   "attachments": {},
   "cell_type": "markdown",
   "metadata": {},
   "source": [
    "\n",
    "## IDA* algorithm  \n",
    "\n",
    "BT(G, $s$, $g_s$, $h$, bound)  \n",
    "> $f_s = g_s + h(s)$  \n",
    "> if $f_s$ > bound  return ($f_s$, NULL)  \n",
    "> if Target($s$)   return ($f_s$, $s$)  \n",
    "> min = $\\infty$  \n",
    "> n = FirstAdjacent(G,s)  \n",
    "> while n $\\neq$ NULL\n",
    ">>  $g_n$ = $g_s$ + $w(s,n)$  \n",
    ">>  next_bound, target = BT(G, $n$, $g_n$, $h$, bound)  \n",
    ">>  if target $\\neq$ NULL return (next_bound, target)  \n",
    ">>  if next_bound < min min = next_bound  \n",
    ">>  $n$ = NextAdjacent(G, $s$, $n$)  \n",
    "> return (min, NULL)  \n",
    "\n",
    "IDA*($G$, source, $h$)  \n",
    "> bound = h(source)  \n",
    "> while  \n",
    ">>  (next_bound, target) = BT($G$, source, $h$, bound)  \n",
    ">>  if target $\\neq$ NULL  \n",
    ">>>   return target  \n",
    ">>  if next_bound < 0  \n",
    ">>>   return NULL  \n",
    ">>  bound = next_bound\n",
    "\n",
    "\n"
   ]
  },
  {
   "cell_type": "code",
   "execution_count": 13,
   "metadata": {},
   "outputs": [
    {
     "name": "stdout",
     "output_type": "stream",
     "text": [
      "(4, 'E')\n"
     ]
    }
   ],
   "source": [
    "import math\n",
    "import heapq\n",
    "\n",
    "def bt(G, W, s, gs, h, bound, Target):\n",
    "  fs = gs + h[s]\n",
    "  if fs > bound:\n",
    "    return (fs, None)\n",
    "  if s in Target: \n",
    "    return (fs, s)\n",
    "  min = math.inf\n",
    "  for n in iter(G[s]):\n",
    "    gn = gs + W[(s,n)]\n",
    "    fn = gn + h[n]\n",
    "    (next_bound, target)  = bt(G, W, n, gn, h, bound, Target)\n",
    "    if target != None: return (next_bound, target)\n",
    "    if next_bound < min: min = next_bound\n",
    "  return min, None\n",
    "\n",
    "def idastar(G, W, source, h, Target):\n",
    "  bound = h[source]\n",
    "  while True:\n",
    "    (next_bound,target) = bt(G, W, source, 0, h, bound, Target)\n",
    "    if target != None: return (next_bound, target)\n",
    "    if next_bound < 0: return (next_bound, None)\n",
    "    bound = next_bound\n",
    "\n",
    "          \n",
    "print(idastar(G,W,source,h,Target))"
   ]
  }
 ],
 "metadata": {
  "kernelspec": {
   "display_name": "Python 3",
   "language": "python",
   "name": "python3"
  },
  "language_info": {
   "codemirror_mode": {
    "name": "ipython",
    "version": 3
   },
   "file_extension": ".py",
   "mimetype": "text/x-python",
   "name": "python",
   "nbconvert_exporter": "python",
   "pygments_lexer": "ipython3",
   "version": "3.8.10"
  },
  "orig_nbformat": 4
 },
 "nbformat": 4,
 "nbformat_minor": 2
}
