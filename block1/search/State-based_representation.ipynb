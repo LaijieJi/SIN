{
 "cells": [
  {
   "attachments": {},
   "cell_type": "markdown",
   "metadata": {},
   "source": [
    "# State-based representation"
   ]
  },
  {
   "cell_type": "markdown",
   "metadata": {},
   "source": [
    "A search problem can be formally defined by:\n",
    "- <b>State space</b>: Set of possible states of the problem.\n",
    "- <b>Initial state $s_0$</b>: The state in which the search starts.\n",
    "- <b>Actions($s$)</b>: Possible actions applied to state $s$.\n",
    "- <b>Result($s$,$a$)</b>: Resulting state from doing action $a$ in state $s$.\n",
    "- <b>Goal($s$)</b>: Determines whether $s$ is a solution or not.\n",
    "- <b>Cost($c$)</b>: Cost of path $c$ (sequence of actions).\n",
    "\n",
    "<b>State graph</b>: nodes are states and edges are actions\n",
    "\n",
    "<b>Objective</b>: find a goal state (optimal solution if possible)"
   ]
  },
  {
   "cell_type": "markdown",
   "metadata": {},
   "source": [
    "## Example: 4-puzzle\n",
    "\n",
    "Played on a 2-by-2 grid with 3 square blocks labeled 1 through 3 and a blank square labeled 0. \n",
    "\n",
    "The goal is to rearrange the blocks so that they are in order. \n",
    "\n",
    "It is allowed to <i>slide the blank square</i> horizontally, left (l) and right (r), or vertically, up (u) and down (d)"
   ]
  },
  {
   "cell_type": "markdown",
   "metadata": {},
   "source": [
    "<img src=\"state_graph.png\" width=\"50%\"/>"
   ]
  },
  {
   "cell_type": "markdown",
   "metadata": {},
   "source": [
    "The search problem for 4-puzzle:\n",
    "- <b>State space</b>: Set of possible configurations of the grid.\n",
    "- <b>Initial state $s_0$</b>: Initial configuration of the grid.\n",
    "- <b>Actions($s$)</b>: Left, right, up and down.\n",
    "- <b>Result($s$,$a$)</b>: See examples above.\n",
    "- <b>Goal($s$)</b>: Final configuration of the grid.\n",
    "- <b>Cost($c$)</b>: Each action has unitary cost ."
   ]
  },
  {
   "cell_type": "markdown",
   "metadata": {},
   "source": [
    "## Example of search space"
   ]
  },
  {
   "cell_type": "markdown",
   "metadata": {},
   "source": [
    "<img src=\"search_space.png\" width=\"50%\"/>"
   ]
  },
  {
   "cell_type": "markdown",
   "metadata": {},
   "source": [
    "The <b>search space is different from the state space</b>, since the former may include repeated nodes.\n",
    "\n",
    "Components of each node $n$ in the tree search:\n",
    "- State\n",
    "- Parent\n",
    "- Action\n",
    "- Cost of the path to reach $n$: $g(n)$\n",
    "- Evaluation function: $f(n)$\n",
    "- Depth"
   ]
  },
  {
   "attachments": {},
   "cell_type": "markdown",
   "metadata": {},
   "source": [
    "## Search strategies\n",
    "\n",
    "- Uninformed search: \n",
    "  - [Breadth first search](Breadth%20First%20Search%20(BFS)/bfs.ipynb)\n",
    "  - [Depth first search (recursive - tree search)](Depth%20First%20Search%20(DFS)/dfs-recursive.ipynb) [(iterative - tree search)](Depth%20First%20Search%20(DFS)/dfs-tree.ipynb) [(iterative - graph search)](Depth%20First%20Search%20(DFS)/dfs-tree.ipynb) [(backtracking - tree search)](Depth%20First%20Search%20(DFS)/dfs-bt.ipynb)\n",
    "  - [Iterative deepening search](Iterative%20Deepening%20Search%20(IDS)/ids.ipynb)\n",
    "  - [Uniform cost search](Uniform%20Cost%20Search%20(UCS)/ucs.ipynb)\n",
    "- Informed search:\n",
    "  - [A* star (graph search)](A%20star/astar.ipynb) [(tree search)](A%20star/astar-tree.ipynb)\n",
    "  - [Best first search (graph search)](Best%20First%20Search/gbfs.ipynb) [(tree search)](Best%20First%20Search/gbfs-tree.ipynb)\n",
    "  - [Iterative deepening A* (graph search)](Iterative%20Deepening%20A%20star/idastar-graph.ipynb) [(tree search)](Iterative%20Deepening%20A%20star/idastar.ipynb)\n",
    "  - Recursive best first search\n"
   ]
  }
 ],
 "metadata": {
  "kernelspec": {
   "display_name": "Python 3",
   "language": "python",
   "name": "python3"
  },
  "language_info": {
   "codemirror_mode": {
    "name": "ipython",
    "version": 3
   },
   "file_extension": ".py",
   "mimetype": "text/x-python",
   "name": "python",
   "nbconvert_exporter": "python",
   "pygments_lexer": "ipython3",
   "version": "3.8.10"
  },
  "orig_nbformat": 4
 },
 "nbformat": 4,
 "nbformat_minor": 2
}
