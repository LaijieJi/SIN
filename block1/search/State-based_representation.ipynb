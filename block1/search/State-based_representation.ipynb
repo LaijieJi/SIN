{
 "cells": [
  {
   "attachments": {},
   "cell_type": "markdown",
   "metadata": {},
   "source": [
    "# State-based representation"
   ]
  },
  {
   "cell_type": "markdown",
   "metadata": {},
   "source": [
    "A search problem can be formally defined by:\n",
    "- <b>State space</b>: Set of possible states of the problem.\n",
    "- <b>Initial state $s_0$</b>: The state in which the search starts.\n",
    "- <b>Actions($s$)</b>: Possible actions applied to state $s$.\n",
    "- <b>Result($s$,$a$)</b>: Resulting state from doing action $a$ in state $s$.\n",
    "- <b>Goal($s$)</b>: Determines whether $s$ is a solution or not.\n",
    "- <b>Cost($c$)</b>: Cost of path $c$ (sequence of actions).\n",
    "\n",
    "<b>State graph</b>: nodes are states and edges are actions\n",
    "\n",
    "<b>Objective</b>: find a goal state (optimal solution if possible)"
   ]
  },
  {
   "cell_type": "markdown",
   "metadata": {},
   "source": [
    "## Example: 8-puzzle\n",
    "\n",
    "Played on a 3-by-3 grid with 8 square blocks labeled 1 through 8 and a blank square labeled 0. \n",
    "\n",
    "The goal is to rearrange the blocks so that they are in order. \n",
    "\n",
    "It is allowed to <i>slide the blank square</i> horizontally, left (l) and right (r), or vertically, up (u) and down (d)\n",
    "\n",
    "\n",
    "     0  1  3   r    1  0  3   d    1  2  3   r    1  2  3    d   1  2  3\n",
    "     4  2  5   =>   4  2  5   =>   4  0  5   =>   4  5  0    =>  4  5  6\n",
    "     7  8  6        7  8  6        7  8  6        7  8  6        7  8  0\n",
    "\n",
    "     Initial                                                      Goal\n",
    "      State                                                       State\n",
    "     \n",
    "The search problem for 8-puzzle:\n",
    "- <b>State space</b>: Set of possible configurations of the grid.\n",
    "- <b>Initial state $s_0$</b>: Initial configuration of the grid.\n",
    "- <b>Actions($s$)</b>: Left, right, up and down.\n",
    "- <b>Result($s$,$a$)</b>: See examples above.\n",
    "- <b>Goal($s$)</b>: Final configuration of the grid.\n",
    "- <b>Cost($c$)</b>: Each action has unitary cost .\n"
   ]
  },
  {
   "cell_type": "markdown",
   "metadata": {},
   "source": [
    "### Example of tree search space\n",
    "\n",
    "![8-graph search space](8-puzzle.png)\n",
    "\n",
    "The <b>search space is different from the state space</b>, since the former may include repeated nodes.\n",
    "\n",
    "Components of each node $n$ in the tree search:\n",
    "- State\n",
    "- Parent\n",
    "- Action\n",
    "- Cost of the path to reach $n$: $g(n)$\n",
    "- Evaluation function: $f(n)$\n",
    "- Depth"
   ]
  },
  {
   "attachments": {},
   "cell_type": "markdown",
   "metadata": {},
   "source": [
    "## Search strategies\n",
    "\n",
    "- Uninformed search: Breadth first search, depth first search, uniform cost search\n",
    "\n",
    "- Informed search: A* star, best first search (BFS), iterative deepening A*, recursive BFS, etc.\n"
   ]
  }
 ],
 "metadata": {
  "kernelspec": {
   "display_name": "Python 3",
   "language": "python",
   "name": "python3"
  },
  "language_info": {
   "codemirror_mode": {
    "name": "ipython",
    "version": 3
   },
   "file_extension": ".py",
   "mimetype": "text/x-python",
   "name": "python",
   "nbconvert_exporter": "python",
   "pygments_lexer": "ipython3",
   "version": "3.8.10"
  },
  "orig_nbformat": 4
 },
 "nbformat": 4,
 "nbformat_minor": 2
}
