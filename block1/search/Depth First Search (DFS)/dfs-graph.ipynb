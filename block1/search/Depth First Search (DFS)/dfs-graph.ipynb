{
 "cells": [
  {
   "attachments": {},
   "cell_type": "markdown",
   "metadata": {},
   "source": [
    "# Depth-first search (DFS) "
   ]
  },
  {
   "cell_type": "markdown",
   "metadata": {},
   "source": [
    "Depth-first search enumerates paths (from the source node) until it finds a solution (target node) prioritizing the deepest (longest) paths and limiting the maximum depth (only finite paths)."
   ]
  },
  {
   "cell_type": "markdown",
   "metadata": {},
   "source": [
    "<img src=\"state_graph.png\" width=\"50%\"/>"
   ]
  },
  {
   "attachments": {},
   "cell_type": "markdown",
   "metadata": {},
   "source": [
    "## DFS algorithm with graph search (Open and Closed sets)\n",
    "DFS(G,s')  \n",
    "> Open = InitStack(s')  \n",
    "> Closed = $\\emptyset$  \n",
    "> while Open $\\neq \\emptyset$  \n",
    ">>  s = Pop(Open)  \n",
    ">>  if Target(s) return s  \n",
    ">>  Closed = Closed $\\cup$ $\\{s\\}$  \n",
    ">>  for n $\\in$ Adjacents(G,s)  \n",
    ">>>   if n $\\notin$ Closed  \n",
    ">>>>    if n $\\notin$ Open  \n",
    ">>>>>     Push(Open,n)    \n",
    "> return NULL"
   ]
  },
  {
   "cell_type": "markdown",
   "metadata": {},
   "source": [
    "<img src=\"search_space_graph.png\" width=\"80%\"/>"
   ]
  },
  {
   "attachments": {},
   "cell_type": "markdown",
   "metadata": {},
   "source": [
    "DFS with graph search is complete, since the Closed set allows to check nodes already visited (avoiding loops), but suboptimal  \n",
    "\n",
    "**Complexity**: G with branching factor $b$ and solution found at depth $m$ \n",
    "  \n",
    "  $O(b^m)$ temporal cost and $O(bm)$ spatial cost"
   ]
  }
 ],
 "metadata": {
  "kernelspec": {
   "display_name": "Python 3",
   "language": "python",
   "name": "python3"
  },
  "language_info": {
   "codemirror_mode": {
    "name": "ipython",
    "version": 3
   },
   "file_extension": ".py",
   "mimetype": "text/x-python",
   "name": "python",
   "nbconvert_exporter": "python",
   "pygments_lexer": "ipython3",
   "version": "3.8.10"
  },
  "orig_nbformat": 4
 },
 "nbformat": 4,
 "nbformat_minor": 2
}
