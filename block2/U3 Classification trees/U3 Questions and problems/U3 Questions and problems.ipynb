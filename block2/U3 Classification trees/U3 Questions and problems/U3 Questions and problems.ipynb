{
 "cells": [
  {
   "cell_type": "markdown",
   "metadata": {},
   "source": [
    "# U3 Classification trees"
   ]
  },
  {
   "cell_type": "markdown",
   "metadata": {},
   "source": [
    "**2023_01_26_Question 3:** $\\;$ Consider the classification tree learning algorithm applied to a four-class problem, $c=1,2,3,4$. The algorithm has reached a node $t$ with the following data: $2$ from class $1$, $16$ from $2$, $8$ from $3$ and $256$ from $4$. The impurity of $t$, $\\mathcal{I}(t)$, measured as the entropy of the class posterior probability given by the empirical distribution in $t$, is:\n",
    "1. $0.00\\leq \\mathcal{I}(t)<0.50$\n",
    "2. $0.50\\leq \\mathcal{I}(t)<1.00$\n",
    "3. $1.00\\leq \\mathcal{I}(t)<1.50$\n",
    "4. $1.50\\leq \\mathcal{I}(t)$"
   ]
  },
  {
   "cell_type": "markdown",
   "metadata": {},
   "source": [
    "**Solution:** $\\;$ option 2.\n",
    "$$\\begin{align*}\n",
    "\\mathcal{I}(t) &= -\\sum_{c=1}^4 \\hat{P}(c\\mid t)\\,\\log_2 \\hat{P}(c\\mid t)\\\\\n",
    "&= -\\frac{2}{282}\\log_2 \\frac{2}{282} -\\frac{16}{282}\\log_2 \\frac{16}{282} -\\frac{8}{282}\\log_2 \\frac{8}{282}-\\frac{256}{282}\\log_2 \\frac{256}{282}=0.56\n",
    "\\end{align*}$$"
   ]
  },
  {
   "cell_type": "markdown",
   "metadata": {},
   "source": [
    "**2023_01_17_Question 5:** $\\;$ Consider the classification tree learning algorithm applied to a two-class problem, $c=A,B$. The algorithm has reached a node $t$ whose impurity, measured as the entropy of the class posterior probability given by the empirical distribution in $t$, is $I=0.72$. What is the number of samples in each of the classes in node $t$?\n",
    "1. 2 in class A and 32 in class B\n",
    "2. 2 in class A and 16 in class B\n",
    "3. 4 in class A and 32 in class B\n",
    "4. 4 in class A and 16 in class B"
   ]
  },
  {
   "cell_type": "markdown",
   "metadata": {},
   "source": [
    "**Solution:** $\\;$ option 4."
   ]
  },
  {
   "cell_type": "markdown",
   "metadata": {},
   "source": [
    "**2023_01_17_Question 6:** "
   ]
  },
  {
   "cell_type": "code",
   "execution_count": 1,
   "metadata": {},
   "outputs": [],
   "source": [
    "import numpy as np; import matplotlib.pyplot as plt;\n",
    "fig = plt.figure(figsize=(2, 2)); plt.xlim([0, 6]); plt.ylim([0, 6])\n",
    "ticks = np.arange(0, 7); plt.xticks(ticks); plt.yticks(ticks); plt.grid()\n",
    "X = np.array([[1,1], [1,5], [2,1], [2,3], [3,1], [3,5], [4,1], [5,1], [1,3], [2,5], [3,3], [5,3], [5,4], [5,5]])\n",
    "y = np.array([1, 1, 1, 1, 1, 1, 1, 1, 2, 2, 2, 2, 2, 2])\n",
    "plt.scatter(*X.T, c=y, cmap=plt.cm.binary, edgecolors='black')\n",
    "plt.plot((0,6),(2,2), (0,4),(4,4), (4,4),(2,6), color='black')\n",
    "plt.savefig('2023_01_17_Q6.svg', format='svg'); plt.close(fig)"
   ]
  },
  {
   "cell_type": "code",
   "execution_count": 2,
   "metadata": {},
   "outputs": [],
   "source": [
    "import graphviz\n",
    "graphviz.Source('''digraph { rankdir=TB splines=false node[shape=oval margin=0.02 width=0 height=0]\n",
    "A[label=<x2 &le; 2>] L[label=\" \" shape=circle] R[label=<x1 &le; 4>] A->{L, R}\n",
    "RL[label=<x2 &le; 4>] RR[label=\" \" shape=circle style=filled color=black] R->{RL, RR}\n",
    "RLL[label=\" \" shape=circle style=filled color=black] RLR[label=\" \" shape=circle] RL->{RLL, RLR}\n",
    "}''').render(filename='2023_01_17_Q61', format='svg')\n",
    "graphviz.Source('''digraph { rankdir=TB splines=false node[shape=oval margin=0.02 width=0 height=0]\n",
    "A[label=<x2 &le; 4>] L[label=\" \" shape=circle] R[label=<x1 &le; 4>] A->{L, R}\n",
    "RL[label=<x2 &le; 2>] RR[label=\" \" shape=circle style=filled color=black] R->{RL, RR}\n",
    "RLL[label=\" \" shape=circle style=filled color=black] RLR[label=\" \" shape=circle] RL->{RLL, RLR}\n",
    "}''').render(filename='2023_01_17_Q62', format='svg')\n",
    "graphviz.Source('''digraph { rankdir=TB splines=false node[shape=oval margin=0.02 width=0 height=0]\n",
    "A[label=<x2 &le; 2>] L[label=\" \" shape=circle] R[label=<x1 &le; 4>] A->{L, R}\n",
    "RL[label=<x2 &le; 4>] RR[label=\" \" shape=circle] R->{RL, RR}\n",
    "RLL[label=\" \" shape=circle style=filled color=black] RLR[label=\" \" shape=circle] RL->{RLL, RLR}\n",
    "}''').render(filename='2023_01_17_Q63', format='svg')\n",
    "graphviz.Source('''digraph { rankdir=TB splines=false node[shape=oval margin=0.02 width=0 height=0]\n",
    "A[label=<x2 &le; 2>] L[label=\" \" shape=circle] R[label=<x1 &le; 4>] A->{L, R}\n",
    "RL[label=<x2 &le; 4>] RR[label=\" \" shape=circle style=filled color=black] R->{RL, RR}\n",
    "RLL[label=\" \" shape=circle] RLR[label=\" \" shape=circle style=filled color=black] RL->{RLL, RLR}\n",
    "}''').render(filename='2023_01_17_Q64', format='svg');"
   ]
  },
  {
   "cell_type": "markdown",
   "metadata": {},
   "source": [
    "The figure below shows a two-class 2d dataset along with a partition of the space into $4$ regions, as well as four possible classification trees. Which of the four is consistent with the data and partition represented?"
   ]
  },
  {
   "cell_type": "markdown",
   "metadata": {},
   "source": [
    "<div align=center>\n",
    "<table><tr>\n",
    "<td style=\"border: none; text-align:center;\">\n",
    "\n",
    "**Dataset and partition**\n",
    "\n",
    "<img src=\"2023_01_17_Q6.svg\" width=\"250\"/></td>\n",
    "<td style=\"border: none; text-align:center;\">\n",
    "\n",
    "**Tree 1**\n",
    "\n",
    "<img src=\"2023_01_17_Q61.svg\" width=\"150\"/></td>\n",
    "<td style=\"border: none; text-align:center;\">\n",
    "\n",
    "**Tree 2**\n",
    "\n",
    "<img src=\"2023_01_17_Q62.svg\" width=\"150\"/></td>\n",
    "<td style=\"border: none; text-align:center;\">\n",
    "\n",
    "**Tree 3**\n",
    "\n",
    "<img src=\"2023_01_17_Q63.svg\" width=\"150\"/></td>\n",
    "<td style=\"border: none; text-align:center;\">\n",
    "\n",
    "**Tree 4**\n",
    "\n",
    "<img src=\"2023_01_17_Q64.svg\" width=\"150\"/></td>\n",
    "<tr></table>\n",
    "</div>"
   ]
  },
  {
   "cell_type": "markdown",
   "metadata": {},
   "source": [
    "\n",
    "**Solution:** $\\;$ Tree 1. "
   ]
  },
  {
   "cell_type": "markdown",
   "metadata": {},
   "source": [
    "**2022_01_27_Question 1:** $\\;$ Given the following 3 nodes of a classification tree with samples belonging to 3 classes:\n",
    "$$\\begin{array}{c|ccc}\n",
    "c & 1 & 2 & 3\\\\\\hline\n",
    "n_{1} & 2/12 & 5/12 & 5/12\\\\\n",
    "n_{2} & 3/11 & 4/11 & 4/11\\\\\n",
    "n_{3} & 5/11 & 3/11 & 3/11\\\\\n",
    "\\end{array}$$\n",
    "where each row indicates the \"posterior\" probability of each class at the node. Which of the following inequalities is true?\n",
    "1. $\\mathcal{I}(n_{1}) < \\mathcal{I}(n_{3}) < \\mathcal{I}(n_{2})$\n",
    "2. $\\mathcal{I}(n_{3}) < \\mathcal{I}(n_{2}) < \\mathcal{I}(n_{1})$\n",
    "3. $\\mathcal{I}(n_{1}) < \\mathcal{I}(n_{2}) < \\mathcal{I}(n_{3})$\n",
    "4. $\\mathcal{I}(n_{2}) < \\mathcal{I}(n_{3}) < \\mathcal{I}(n_{1})$"
   ]
  },
  {
   "cell_type": "markdown",
   "metadata": {},
   "source": [
    "**Solution:** $\\;$ option 1."
   ]
  },
  {
   "cell_type": "markdown",
   "metadata": {},
   "source": [
    "**2022_01_13_Question 5:** Given the following dataset used to train a classification tree with 5 two-dimensional samples belonging to 2 classes:\n",
    "$$\\begin{array}{c|cccc}\n",
    "n & 1 & 2 & 3 & 4 & 5\\\\\\hline\n",
    "x_{n1} & 2 & 5 & 4 & 3 & 3\\\\\n",
    "x_{n2} & 4 & 1 & 2 & 5 & 2\\\\\n",
    "c_n & 1 & 1 & 2 & 2 & 2\\\\\n",
    "\\end{array}$$\n",
    "How many different partitions could be generated on the root node? Do not consider partitions where all data is assigned to the same child node.\n",
    "1. $7$\n",
    "2. $8$\n",
    "3. $5$\n",
    "4. $6$"
   ]
  },
  {
   "cell_type": "markdown",
   "metadata": {},
   "source": [
    "**Solution:** $\\;$ option 4."
   ]
  }
 ],
 "metadata": {
  "kernelspec": {
   "display_name": "Python 3",
   "language": "python",
   "name": "python3"
  },
  "language_info": {
   "codemirror_mode": {
    "name": "ipython",
    "version": 3
   },
   "file_extension": ".py",
   "mimetype": "text/x-python",
   "name": "python",
   "nbconvert_exporter": "python",
   "pygments_lexer": "ipython3",
   "version": "3.11.4"
  }
 },
 "nbformat": 4,
 "nbformat_minor": 2
}
