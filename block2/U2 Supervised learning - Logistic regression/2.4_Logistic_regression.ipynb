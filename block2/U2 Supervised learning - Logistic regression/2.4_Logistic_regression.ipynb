{
 "cells": [
  {
   "cell_type": "markdown",
   "metadata": {},
   "source": [
    "# U2.4 Logistic regression"
   ]
  },
  {
   "cell_type": "markdown",
   "metadata": {},
   "source": [
    "# Index\n",
    "\n",
    "1. One-hot encoding and categorical distribution\n",
    "2. Probabilistic classification model with softmax\n",
    "3. Logistic regression\n",
    "4. Learning by maximum likelihood\n",
    "5. Learning algorithm with gradient descent"
   ]
  },
  {
   "cell_type": "markdown",
   "metadata": {},
   "source": [
    "<p style=\"page-break-after:always;\"></p>"
   ]
  },
  {
   "cell_type": "markdown",
   "metadata": {},
   "source": [
    "# 1 One-hot encoding and categorical distribution\n",
    "\n",
    "**Categorical variable:** $\\;$ random variable that takes a value from a finite set of (unordered) categories\n",
    "\n",
    "**Examples of categorical variables:** $\\;$ RGB color, **class label,** vocabulary word, etc.\n",
    "\n",
    "**One-hot encoding:** $\\;$ of a categorical variable $y$ that takes a value among $C$ possible, $\\,\\{1,\\dotsc,C\\}$\n",
    "$$\\operatorname{one-hot}(y)%\n",
    "=\\boldsymbol{y}%\n",
    "=\\begin{pmatrix}y_1\\\\\\vdots\\\\y_C\\end{pmatrix}%\n",
    "=\\begin{pmatrix}\\mathbb{I}(y=1)\\\\\\vdots\\\\\\mathbb{I}(y=C)\\end{pmatrix}\\in\\{0,1\\}^C%\n",
    "\\quad\\text{with}\\quad%\n",
    "\\sum_c y_c=1$$\n",
    "\n",
    "**Categorical distribution:** $\\;$ distribution of probabilities among the $C$ possible categories of a categorical variable, whose probabilities are given by a parameter vector $\\,\\boldsymbol{\\theta}\\in[ 0,1]^C\\,$ such that $\\,\\sum_c\\theta_c=1$\n",
    "$$\\operatorname{Cat}(y\\mid\\boldsymbol{\\theta})=\\prod_{c=1}^C\\theta_c^{\\mathbb{I}(y=c)}%\n",
    "\\qquad\\text{or, in one-hot notation,}\\qquad%\n",
    "\\operatorname{Cat}(\\boldsymbol{y}\\mid\\boldsymbol{\\theta})=\\prod_{c=1}^C\\theta_c^{y_c}$$\n",
    "\n",
    "**Convention:** $\\;0^0=1\\;$ and $\\;0\\log 0=0;\\;$ for example, with $\\,\\boldsymbol{\\theta}=(0.5, 0.5, 0)^t,\\,\\operatorname{Cat}(\\boldsymbol{y}=(1,0,0)^t\\mid\\boldsymbol{\\theta})=0.5^10.5^00^0=0.5$"
   ]
  },
  {
   "cell_type": "markdown",
   "metadata": {},
   "source": [
    "<p style=\"page-break-after:always;\"></p>"
   ]
  },
  {
   "cell_type": "markdown",
   "metadata": {},
   "source": [
    "# 2 Probabilistic classification model with softmax\n",
    "\n",
    "**Probabilistic normalization of classifiers:** $\\;$ every classifier defined with general discriminant functions can be represented by an equivalent classifier with probabilistically normalized discriminant functions\n",
    "$$\\begin{align*}\n",
    "c(\\boldsymbol{x})%\n",
    "&=\\operatorname*{argmax}\\limits_c\\;a_c && \\text{where $\\,a_c\\,$ is the discriminant of class $c$ evaluated at $\\boldsymbol{x}$}\\\\%\n",
    "&=\\operatorname*{argmax}\\limits_c\\;e^{a_c} && \\text{with}\\;h(z)=e^z\\in\\mathbb{R}^{\\geq 0}\\;\\text {strictly increasing}\\\\%\n",
    "&=\\operatorname*{argmax}\\limits_c\\;\\frac{e^{a_c}}{\\sum_{c'} e^{a_{c'}}} && \\text{with}\\;h(z) =kz,\\,k\\;\\text{positive constant (invariant with $c$)}%\n",
    "\\end{align*}$$\n",
    "\n",
    "**The softmax function:** $\\;$ transforms a vector of **logits** (non-normalized log-likelihoods) $\\,\\boldsymbol{a}\\in\\mathbb{R}^C\\,$ into a vector of probabilities $[0,1]^C$\n",
    "$$\\mathcal{S}(\\boldsymbol{a})=\\left[%\n",
    "\\frac{e^{a_1}}{\\sum_{\\tilde{c}}e^{a_{\\tilde{c}}}},\\dotsc,%\n",
    "\\frac{e^{a_C}}{\\sum_{\\tilde{c}}e^{a_{\\tilde{c}}}}\\right]%\n",
    "\\qquad\\text{satisfying}\\qquad%\n",
    "0\\leq\\mathcal{S}(\\boldsymbol{a})_c\\leq 1%\n",
    "\\quad\\text{and}\\quad%\n",
    "\\sum_c \\mathcal{S}(\\boldsymbol{a})_c=1$$\n",
    "\n",
    "**Probabilistic classification model with softmax:** $\\;$ instead of predicting a single most likely class, we predict the probabilities of all classes from a logit predictor function, $\\,f:\\mathcal{ X}\\to\\mathbb{R}^C,\\,$ governed by a parameter vector $\\,\\boldsymbol{\\theta}$\n",
    "$$p(\\boldsymbol{y}\\mid\\boldsymbol{x},\\boldsymbol{\\theta})%\n",
    "=\\operatorname{Cat}(\\boldsymbol{y}\\mid\\mathcal{S}(f(\\boldsymbol{x};\\boldsymbol{\\theta})))%\n",
    "=\\prod_c(\\mathcal{S}(f(\\boldsymbol{x};\\boldsymbol{\\theta}))_c)^{y_c}$$\n",
    "\n",
    "**Convenience of the model in inference:** $\\;$ the prediction of the probabilities of all classes allows to apply more general rules than the MAP, for example in case of errors with different costs; also, if we want to apply the MAP rule, we do not need to softmax-normalize logits\n",
    "\n",
    "**Convenience of the model in learning:** $\\;$ allows learning to be considered probabilistically, with standard criteria such as maximum likelihood; moreover, thanks to the softmax, $\\,f(\\boldsymbol{x};\\boldsymbol{\\theta})\\,$\n",
    "can be freely chosen since it is not subject to probabilistic restrictions"
   ]
  },
  {
   "cell_type": "markdown",
   "metadata": {},
   "source": [
    "# 3 Logistic regression\n",
    "\n",
    "**Logistic regression:** $\\;$ model with softmax and **linear logits** with input (in homogeneous notation)\n",
    "$$p(\\boldsymbol{y}\\mid\\boldsymbol{x},\\mathbf{W})%\n",
    "=\\operatorname{Cat}(\\boldsymbol{y}\\mid\\boldsymbol{\\mu})%\n",
    "\\quad\\text{with}\\quad%\n",
    "\\boldsymbol{\\mu}=\\mathcal{S}(\\boldsymbol{a}),\\quad%\n",
    "\\boldsymbol{a}=f(\\boldsymbol{x};\\mathbf{W})=\\mathbf{W}^t\\boldsymbol{x},\\quad%\n",
    "\\mathbf{W}\\in\\mathbb{R}^{D\\times C}\\quad\\text{and}\\quad\\boldsymbol{x}\\in\\mathbb{R}^D$$\n",
    "\n",
    "**Difference with linear discriminant based classifiers:** $\\;$ none, except that now we predict all class probabilities"
   ]
  },
  {
   "cell_type": "markdown",
   "metadata": {},
   "source": [
    "<p style=\"page-break-after:always;\"></p>"
   ]
  },
  {
   "cell_type": "markdown",
   "metadata": {},
   "source": [
    "**Example (perceptron cont.):** $\\quad C=D=2,\\quad a_1=g_1(x_1,x_2)=-x_1-x_2+1,\\quad a_2=g_2(x_1,x_2)= x_1+x_2-1$\n",
    "$$\\boldsymbol{a}=f(\\boldsymbol{x};\\mathbf{W})=\\mathbf{W}^t\\boldsymbol{x}%\n",
    "\\quad\\text{with}\\quad%\n",
    "\\mathbf{W}^t=\\begin{pmatrix}1&-1&-1\\\\-1&1&1\\end{pmatrix}%\n",
    "\\quad\\text{and}\\quad%\n",
    "\\boldsymbol{x}=\\begin{pmatrix}1\\\\x_1\\\\x_2\\end{pmatrix}$$\n",
    "\n",
    "<center>\n",
    "\n",
    "|$\\boldsymbol{x}^t$|$\\boldsymbol{a}^t$|$\\mu_1=\\mathcal{S}(\\boldsymbol{a})_1$|$\\mu_2=\\mathcal{S}( \\boldsymbol{a})_2$|\n",
    "|:-:|:-:|:-:|:-:|\n",
    "|$(1,0,0)$|$(1,-1)$|$\\frac{e^1}{e^1+e^{-1}}=0.8808$|$\\frac{e^{-1}}{e^1+e^{-1}}=0.1192$|\n",
    "|$(1,1,1)$|$(-1,1)$|$\\frac{e^{-1}}{e^{-1}+e^1}=0.1192$|$\\frac{e^1}{e^{-1}+e^1}=0.8808$|\n",
    "|$(1,0.5,0.5)$|$(0,0)$|$\\frac{e^0}{e^0+e^0}=0.5000$|$\\frac{e^0}{e ^0+e^0}=0.5000$|\n",
    "\n",
    "</center>"
   ]
  },
  {
   "cell_type": "code",
   "execution_count": 17,
   "metadata": {},
   "outputs": [
    {
     "data": {
      "image/png": "[encoded data removed]",
      "text/plain": [
       "<Figure size 700x150 with 4 Axes>"
      ]
     },
     "metadata": {},
     "output_type": "display_data"
    }
   ],
   "source": [
    "import numpy as np; import matplotlib.pyplot as plt\n",
    "X = np.array([[0, 0], [1, 1]]).astype(float); y = np.array([1, 2]).astype(int)\n",
    "x1, x2 = np.meshgrid(np.linspace(-.03, 1.03, 50), np.linspace(-.03, 1.03, 50))\n",
    "XX = np.c_[np.ravel(x1), np.ravel(x2)]\n",
    "Wt = np.array([[1, -1, -1], [-1, 1, 1]]).astype(float)\n",
    "P = lambda x: (np.exp(Wt[0, 0] + Wt[0, 1:] @ x), np.exp(Wt[1, 0] + Wt[1, 1:] @ x))\n",
    "PP = np.apply_along_axis(P, 1, XX); PP = PP/PP.sum(axis=1, keepdims=True)\n",
    "_, axs = plt.subplots(1, 2, figsize=(7.0, 1.5))\n",
    "for i, ax in enumerate(axs.flat):\n",
    "    ax.set_xticks(np.linspace(0., 1, 5)); ax.set_yticks(np.linspace(0., 1, 5));\n",
    "    ax.grid(); ax.set_title(f'p({i+1}|x)=S(W^t x)_{i+1}')\n",
    "    cp = ax.contourf(x1, x2, PP[:, i].reshape(x1.shape), 15, cmap='RdBu_r')\n",
    "    plt.colorbar(cp, ax=ax); ax.scatter(*X.T, c=y, s=50);"
   ]
  },
  {
   "cell_type": "markdown",
   "metadata": {},
   "source": [
    "<p style=\"page-break-after:always;\"></p>"
   ]
  },
  {
   "cell_type": "markdown",
   "metadata": {},
   "source": [
    "# 4 Learning by maximum likelihood\n",
    "\n",
    "**Purpose:** $\\;$ establish a criterion for learning $\\,\\mathbf{W}\\,$ from a training dataset, $\\,\\mathcal{D}=\\{ (\\boldsymbol{x}_n,\\boldsymbol{y}_n)\\}_{n=1}^N$"
   ]
  },
  {
   "cell_type": "markdown",
   "metadata": {},
   "source": [
    "## Learning by maximum likelihood\n",
    "\n",
    "**Log-likelihood (conditional):** $\\;$ log-likelihood of $\\,\\mathcal{D}\\,$ interpreted as a function of $\\,\\mathbf{W}$\n",
    "$$\\begin{align*}\n",
    "\\operatorname{LL}(\\mathbf{W})%\n",
    "&=\\log p(\\mathcal{D}\\mid\\mathbf{W})=\\log \\prod_{n=1}^N p(\\boldsymbol{y}_n\\mid\\boldsymbol{x}_n,\\mathbf {W})\\\\%\n",
    "&=\\sum_{n=1}^N \\log \\operatorname{Cat}(\\boldsymbol{y}_n\\mid\\boldsymbol{\\mu}_n)%\n",
    "\\qquad\\text{with}\\quad\\boldsymbol{\\mu}_n=\\mathcal{S}(\\boldsymbol{a}_n)\\quad\\text{and}\\quad\\boldsymbol{a}_n=\\mathbf{W }^t\\boldsymbol{x}_n\\\\%\n",
    "&=\\sum_{n=1}^N \\log\\prod_{c=1}^C \\mu_{nc}^{y_{nc}}=\\sum_{n=1}^N\\sum_{c=1 }^C y_{nc}\\log\\mu_{nc}%\n",
    "\\end{align*}$$\n",
    "\n",
    "**Example (cont.):** $\\;$ log-likelihood of $\\;\\mathbf{W}^t=\\begin{pmatrix}1&-1&-1\\\\-1&1&1\\end{pmatrix}\\; $ with $\\;\\mathcal{D}=\\{((1,0,0)^t,(1,0)^t),((1,1,1)^t,(0,1)^ t)\\}$\n",
    "$$\\begin{align*}\n",
    "\\operatorname{LL}(\\mathbf{W})%\n",
    "&=y_{11}\\log\\mu_{11}+y_{12}\\log\\mu_{12}+y_{21}\\log\\mu_{21}+y_{22}\\log\\mu_{22}\\\\\n",
    "&=\\log\\mu_{11}+\\log\\mu_{22}\\\\\n",
    "&=\\log 0.8808+\\log 0.8808=-0.1269-0.1269=-0.2538\n",
    "\\end{align*}$$\n",
    "\n",
    "**Learning by maximum likelihood:** $\\;$ choose a $\\,\\mathbf{W}\\,$ that gives maximum likelihood to $\\,\\mathcal{D}$\n",
    "$$\\mathbf{W}^*=\\operatorname*{argmax}_{\\mathbf{W}}\\;\\operatorname{LL}(\\mathbf{W})$$"
   ]
  },
  {
   "cell_type": "markdown",
   "metadata": {},
   "source": [
    "<p style=\"page-break-after:always;\"></p>"
   ]
  },
  {
   "cell_type": "markdown",
   "metadata": {},
   "source": [
    "## Considered as a minimization problem\n",
    "\n",
    "**Neg-log-likelihood:** $\\;$ log-likelihood with the sign changed and normalized by the number of data samples\n",
    "$$\\operatorname{NLL}(\\mathbf{W})%\n",
    "=-\\frac{1}{N}\\operatorname{LL}(\\mathbf{W})%\n",
    "=-\\frac{1}{N}\\sum_{n=1}^N\\sum_{c=1}^C y_{nc}\\log\\mu_{nc}%\n",
    "\\qquad\\text{with}\\quad%\n",
    "\\boldsymbol{\\mu}_n=\\mathcal{S}(\\boldsymbol{a}_n)%\n",
    "\\quad\\text{and}\\quad%\n",
    "\\boldsymbol{a}_n=\\mathbf{W}^t\\boldsymbol{x}_n$$\n",
    "\n",
    "**Example (cont.):** $\\;$ neg-log-likelihood of $\\;\\mathbf{W}^t=\\begin{pmatrix}1&-1&-1\\\\-1&1&1\\end{pmatrix} \\;$ with $\\;\\mathcal{D}=\\{((1,0,0)^t,(1,0)^t),((1,1,1)^t,(0,1 )^t)\\}$\n",
    "$$\\operatorname{NLL}(\\mathbf{W})=-\\frac{1}{2}\\operatorname{LL}(\\mathbf{W})=0.1269$$\n",
    "\n",
    "**Empirical risk with log-loss:** $\\;$ is the same as the NLL\n",
    "$$\\mathcal{L}(\\mathbf{W})%\n",
    "=\\frac{1}{N}\\sum_{n=1}^N\\ell(\\boldsymbol{y}_n,\\hat{\\boldsymbol{y}}_n)%\n",
    "=\\operatorname{NLL}(\\mathbf{W})%\n",
    "\\quad\\text{with}\\quad%\n",
    "\\ell(\\boldsymbol{y}_n,\\hat{\\boldsymbol{y}}_n)%\n",
    "=-\\log p(\\boldsymbol{y}_n\\mid\\boldsymbol{\\mu}_n)%\n",
    "=-\\sum_{c=1}^C y_{nc}\\log\\mu_{nc}$$\n",
    "* If the model assigns probability one to the correct class, the loss is zero;\n",
    "* If not, the loss will be positive and will be greater when the probability assigned to the correct class is lower\n",
    "\n",
    "**Learning by minimum NLL:** $\\;$ learning by maximum likelihood posed as a minimization problem\n",
    "$$\\mathbf{W}^*=\\operatorname*{argmin}_{\\mathbf{W}}\\;\\operatorname{NLL}(\\mathbf{W})$$"
   ]
  },
  {
   "cell_type": "markdown",
   "metadata": {},
   "source": [
    "<p style=\"page-break-after:always;\"></p>"
   ]
  },
  {
   "cell_type": "markdown",
   "metadata": {},
   "source": [
    "**Example (cont.):** $\\;\\mathcal{D}=\\{((1,0,0)^t,(1,0)^t),((1,1,1)^ t,(0,1)^t)\\};\\;$ for simplicity, suppose we have to choose for minimum NLL between\n",
    "$$\\mathbf{W}^t=\\begin{pmatrix}1&-1&-1\\\\-1&1&1\\end{pmatrix}%\n",
    "\\qquad\\text{and}\\qquad%\n",
    "\\tilde{\\mathbf{W}}^t=\\begin{pmatrix}-1&1&1\\\\1&-1&-1\\end{pmatrix}$$\n",
    "We choose $\\mathbf{W}$ since its NLL, $0.1269$ (calculated before), is smaller than that of $\\,\\tilde{\\mathbf{W}}:$\n",
    "$$\\operatorname{NLL}(\\tilde{\\mathbf{W}})%\n",
    "=-\\frac{1}{2}(\\log\\tilde{\\mu}_{11}+\\log\\tilde{\\mu}_{22})%\n",
    "=-\\log\\frac{e^{-1}}{e^{-1}+e^1}=\\log(1+e^2)=2.1269$$"
   ]
  },
  {
   "cell_type": "markdown",
   "metadata": {},
   "source": [
    "<p style=\"page-break-after:always;\"></p>"
   ]
  },
  {
   "cell_type": "markdown",
   "metadata": {},
   "source": [
    "# 5 Learning algorithm with gradient descent\n",
    "\n",
    "**Purpose:** $\\;$ unlike empirical risk with loss 01 (training error rate), empirical risk with log-loss (NLL) is differentiable, so we can minimize it with standard optimization techniques such as gradient descent"
   ]
  },
  {
   "cell_type": "markdown",
   "metadata": {},
   "source": [
    "## Gradient descent\n",
    "\n",
    "**Gradient descent:** $\\;$ iterative algorithm to minimize an objective $\\,\\mathcal{L}(\\boldsymbol{\\theta})\\,$ from a $\\,\\boldsymbol{\\theta}_0\\,$ given\n",
    "$$\\boldsymbol{\\theta}_{i+1}=\\boldsymbol{\\theta}_i-\\eta_i\\boldsymbol{\\nabla}\\mathcal{L}(\\boldsymbol{\\theta})\\rvert_{\\boldsymbol{ \\theta}_i}\\qquad i=0,1,\\ldots$$\n",
    "\n",
    "**Learning factor:** $\\;\\eta_i>0\\,$ plays the same role as Perceptron; we can choose a small constant value, $\\,\\eta_i=\\eta$\n",
    "\n",
    "**Direction of steepest descent:** $\\;-\\boldsymbol{\\nabla}\\mathcal{L}(\\boldsymbol{\\theta})\\rvert_{\\boldsymbol{\\theta}_i}\\,$ is the neg -gradient of the objective evaluated at $\\boldsymbol{\\theta}_i$\n",
    "\n",
    "**Convergence:** $\\;$ if $\\,\\eta\\,$ is not very large and the objective is convex (bowl-shaped), it converges to a (global) minimum"
   ]
  },
  {
   "cell_type": "markdown",
   "metadata": {},
   "source": [
    "<p style=\"page-break-after:always;\"></p>"
   ]
  },
  {
   "cell_type": "markdown",
   "metadata": {},
   "source": [
    "**Example:** $\\;\\mathcal{L}(\\theta)=\\theta^2,\\,$ $\\theta_0=9,\\,$ $\\eta_t=0.2,\\,$ $\\frac{d \\mathcal{L}}{d\\theta}=2\\theta\\,$ and tolerance $0.01$"
   ]
  },
  {
   "cell_type": "code",
   "execution_count": 3,
   "metadata": {},
   "outputs": [
    {
     "name": "stdout",
     "output_type": "stream",
     "text": [
      "theta delta     L\n",
      "----- ----- -----\n",
      " 9.00  -inf 81.00\n",
      " 5.40 -3.60 29.16\n",
      " 3.24 -2.16 10.50\n",
      " 1.94 -1.30  3.78\n",
      " 1.17 -0.78  1.36\n",
      " 0.70 -0.47  0.49\n",
      " 0.42 -0.28  0.18\n",
      " 0.25 -0.17  0.06\n",
      " 0.15 -0.10  0.02\n",
      " 0.09 -0.06  0.01\n",
      " 0.05 -0.04  0.00\n",
      " 0.03 -0.02  0.00\n",
      " 0.02 -0.01  0.00\n",
      " 0.01 -0.01  0.00\n"
     ]
    }
   ],
   "source": [
    "import math\n",
    "oL = math.inf\n",
    "L, grad, theta, eta, tol, delta = lambda t: t**2, lambda t: 2*t, 9.0, 0.2, 0.01, -math.inf\n",
    "print('theta delta     L')\n",
    "print('----- ----- -----')\n",
    "print(f'{theta:5.2f} {delta:5.2f} {L(theta):5.2f}')\n",
    "while abs(delta) > tol:\n",
    "\toL = L(theta)\n",
    "\tdelta = -eta * grad(theta)\n",
    "\ttheta += delta\n",
    "\tprint(f'{theta:5.2f} {delta:5.2f} {L(theta):5.2f}')"
   ]
  },
  {
   "cell_type": "markdown",
   "metadata": {},
   "source": [
    "<p style=\"page-break-after:always;\"></p>"
   ]
  },
  {
   "cell_type": "markdown",
   "metadata": {},
   "source": [
    "## Gradient descent applied to logistic regression\n",
    "\n",
    "**NLL:** $\\;$ the NLL is a convex objective function\n",
    "$$\\operatorname{NLL}(\\mathbf{W})%\n",
    "=\\frac{1}{N}\\sum_{n=1}^N-\\log p(\\boldsymbol{y}_n\\mid\\boldsymbol{\\mu}_n)\n",
    "\\qquad\\text{with}\\quad%\n",
    "\\boldsymbol{\\mu}_n=\\mathcal{S}(\\boldsymbol{a}_n)%\n",
    "\\quad\\text{and}\\quad%\n",
    "\\boldsymbol{a}_n=\\mathbf{W}^t\\boldsymbol{x}_n$$\n",
    "\n",
    "**NLL gradient:** $\\;$ we will use the following result, without proof\n",
    "$$\\begin{pmatrix}%\n",
    "\\frac{\\partial\\operatorname{NLL}}{\\partial W_{11}}&\\cdots&\\frac{\\partial\\operatorname{NLL}}{\\partial W_{1C}}\\\\%\n",
    "\\vdots&\\ddots&\\vdots\\\\%\n",
    "\\frac{\\partial\\operatorname{NLL}}{\\partial W_{D1}}&\\cdots&\\frac{\\partial\\operatorname{NLL}}{\\partial W_{DC}}\\\\%\n",
    "\\end{pmatrix}\n",
    "=\\frac{\\partial\\operatorname{NLL}}{\\partial\\mathbf{W}^t}%\n",
    "=\\frac{1}{N}\\sum_{n=1}^N\\frac{\\partial(-\\log p(\\boldsymbol{y}_n\\mid\\boldsymbol{\\mu}_n))}{\\partial \\mathbf{W}^t}%\n",
    "=\\frac{1}{N}\\sum_{n=1}^N\\boldsymbol{x}_n(\\boldsymbol{\\mu}_n-\\boldsymbol{y}_n)^t$$\n",
    "\n",
    "**Gradient descent applied to logistic regression:** $\\displaystyle\\quad\\mathbf{W}_0=\\mathbf{0};\\quad\\mathbf{W}_{i+1}=\\mathbf{W}_i -\\eta_i\\frac{\\partial\\operatorname{NLL}}{\\partial\\mathbf{W}^t}\\biggr\\vert_{\\mathbf{W}_i}\\quad i=0,1,\\ldots$"
   ]
  },
  {
   "cell_type": "markdown",
   "metadata": {},
   "source": [
    "<p style=\"page-break-after:always;\"></p>"
   ]
  },
  {
   "cell_type": "code",
   "execution_count": 20,
   "metadata": {},
   "outputs": [
    {
     "name": "stdout",
     "output_type": "stream",
     "text": [
      "[[ 0.7297801 -0.7297801]\n",
      " [-0.9399284  0.9399284]\n",
      " [-0.9399284  0.9399284]]\n"
     ]
    }
   ],
   "source": [
    "import numpy as np; import matplotlib.pyplot as plt\n",
    "X = np.array([[1, 0, 0], [1, 1, 1]]).astype(float); N, D = X.shape\n",
    "y = np.array([[1, 0], [0, 1]]).astype(int); _, C = y.shape\n",
    "W = np.zeros((D, C)).astype(float); Z = np.zeros((N, C)).astype(float)\n",
    "eta, tol, delta = 0.2, 0.01, np.inf\n",
    "while np.any(np.abs(delta) > tol):\n",
    "    a = X @ W\n",
    "    mu = np.exp(a)\n",
    "    mu /= np.sum(mu, axis=1, keepdims=True); \n",
    "    Z = mu - y\n",
    "    grad = (X.T @ Z)/N\n",
    "    delta = eta*grad\n",
    "    W -= delta\n",
    "print(W)"
   ]
  },
  {
   "cell_type": "code",
   "execution_count": 21,
   "metadata": {},
   "outputs": [
    {
     "data": {
      "image/png": "[encoded data removed]",
      "text/plain": [
       "<Figure size 800x250 with 4 Axes>"
      ]
     },
     "metadata": {},
     "output_type": "display_data"
    }
   ],
   "source": [
    "x1, x2 = np.meshgrid(np.linspace(-.03, 1.03, 50), np.linspace(-.03, 1.03, 50))\n",
    "XX = np.c_[np.ones(50*50), np.ravel(x1), np.ravel(x2)]\n",
    "Z = np.apply_along_axis(np.exp, 1, XX @ W); Z = Z/Z.sum(axis=1, keepdims=True)\n",
    "_, axs = plt.subplots(1, 2, figsize=(8, 2.5))\n",
    "for i, ax in enumerate(axs.flat):\n",
    "    ax.set_xticks(np.linspace(0., 1, 5)); ax.set_yticks(np.linspace(0., 1, 5));\n",
    "    ax.grid(); ax.set_title(f'p({i+1}|x)=S(W^t x)_{i+1}')\n",
    "    cp = ax.contourf(x1, x2, Z[:, i].reshape(x1.shape), 15, cmap='RdBu_r')\n",
    "    plt.colorbar(cp, ax=ax); ax.scatter(*X[:,1:].T, c=range(1,C+1), s=50);"
   ]
  }
 ],
 "metadata": {
  "kernelspec": {
   "display_name": "Python 3",
   "language": "python",
   "name": "python3"
  },
  "language_info": {
   "codemirror_mode": {
    "name": "ipython",
    "version": 3
   },
   "file_extension": ".py",
   "mimetype": "text/x-python",
   "name": "python",
   "nbconvert_exporter": "python",
   "pygments_lexer": "ipython3",
   "version": "3.12.3"
  },
  "orig_nbformat": 4
 },
 "nbformat": 4,
 "nbformat_minor": 2
}
