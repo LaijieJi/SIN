{
 "cells": [
  {
   "attachments": {},
   "cell_type": "markdown",
   "metadata": {},
   "source": [
    "# Uniform-cost search (UCS) or Dijkstra algorithm\n",
    "\n",
    "UCS enumerates paths until finding the solution, prioritizing those paths with minimum (partial) cost and avoiding cycles.  \n",
    "\n",
    "UCS generalises BFS to deal with graphs with edges of different costs. "
   ]
  },
  {
   "cell_type": "markdown",
   "metadata": {},
   "source": [
    "<img src=\"state_graph.png\" width=\"50%\"/>"
   ]
  },
  {
   "attachments": {},
   "cell_type": "markdown",
   "metadata": {},
   "source": [
    "\n",
    "## UCS algorithm\n",
    "UCS(G,source)  \n",
    "> Open = InitHeap(source,0)  \n",
    "> Closed = $\\emptyset$  \n",
    "> while Open $\\neq \\emptyset$\n",
    ">> s = Pop(Open)  \n",
    ">> if Target(s) return s  \n",
    ">> Closed = Closed $\\cup$ $\\{s\\}$  \n",
    ">> for n $\\in$ Adjacents(G,s)  \n",
    ">>>  $g_n$ = $g_s$ + $w(s,n)$  \n",
    ">>>  if n $\\notin$ Closed  \n",
    ">>>>   if n $\\notin$ Open  \n",
    ">>>>>    Push(Open,n,$g_n$)  \n",
    "\n",
    ">>>>   else  \n",
    ">>>>>    x = Open[n]  \n",
    ">>>>>    if $g_n$ < x  \n",
    ">>>>>>    Update(Open,n,$g_n$)  \n",
    "\n",
    "> return NULL"
   ]
  },
  {
   "attachments": {},
   "cell_type": "markdown",
   "metadata": {},
   "source": [
    "### Search space"
   ]
  },
  {
   "cell_type": "markdown",
   "metadata": {},
   "source": [
    "<img src=\"search_space.png\" width=\"80%\"/>"
   ]
  },
  {
   "cell_type": "markdown",
   "metadata": {},
   "source": [
    "BFS would find as path ACE with cost 5, instead of ABDE with cost 3."
   ]
  },
  {
   "cell_type": "markdown",
   "metadata": {},
   "source": [
    "### Another graph state"
   ]
  },
  {
   "cell_type": "markdown",
   "metadata": {},
   "source": [
    "<img src=\"state_graph2.png\" width=\"50%\"/>"
   ]
  },
  {
   "cell_type": "markdown",
   "metadata": {},
   "source": [
    "<img src=\"search_space2.png\" width=\"80%\"/>"
   ]
  },
  {
   "attachments": {},
   "cell_type": "markdown",
   "metadata": {},
   "source": [
    "UCS stores the minimum cost path between the root node and each generated node traversing generated nodes.  \n",
    "\n",
    "**Optimality**: \n",
    "\n",
    "UCS is optimal, that is, it finds the path with minimum cost, if actions (edge cost) have positive costs  \n",
    "\n",
    "**Complexity**: \n",
    "  \n",
    "  Explicit graph $G=(V,E)$: $O(\\lvert E \\rvert \\log \\lvert V \\rvert)$ with a heap\n",
    "  \n",
    "  Implicit graph with branching factor $b$:  \n",
    "    Worst-case scenario: solution at depth $m = \\lfloor \\frac{C^*}{\\epsilon} \\rfloor$ where $\\epsilon$ is the minimim edge cost and $C^*$ is the minimum path cost. In this case, a complete tree with nodes at depth $m+1$ is generated and the temporal and spatial cost are $O(b^{m+1})$\n",
    "  \n"
   ]
  }
 ],
 "metadata": {
  "kernelspec": {
   "display_name": "Python 3",
   "language": "python",
   "name": "python3"
  },
  "language_info": {
   "codemirror_mode": {
    "name": "ipython",
    "version": 3
   },
   "file_extension": ".py",
   "mimetype": "text/x-python",
   "name": "python",
   "nbconvert_exporter": "python",
   "pygments_lexer": "ipython3",
   "version": "3.8.10"
  },
  "orig_nbformat": 4
 },
 "nbformat": 4,
 "nbformat_minor": 2
}
