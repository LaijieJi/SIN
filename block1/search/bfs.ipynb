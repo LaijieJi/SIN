{
 "cells": [
  {
   "attachments": {},
   "cell_type": "markdown",
   "metadata": {},
   "source": [
    "# Breath search"
   ]
  },
  {
   "cell_type": "code",
   "execution_count": 77,
   "metadata": {},
   "outputs": [
    {
     "data": {
      "text/plain": [
       "<matplotlib.collections.PathCollection at 0x7f8d2e7f80a0>"
      ]
     },
     "execution_count": 77,
     "metadata": {},
     "output_type": "execute_result"
    },
    {
     "data": {
      "image/png": "[encoded data removed]",
      "text/plain": [
       "<Figure size 640x480 with 1 Axes>"
      ]
     },
     "metadata": {},
     "output_type": "display_data"
    }
   ],
   "source": [
    "import networkx as nx\n",
    "# G is a graph represented as an adjancency list. \n",
    "# G is a hash table (dictionary) with each node as a key, and value, the list of adjacent nodes\n",
    "G={'A':['B','C'],'B':['D','E'],'C':['E'],'D':['E']}\n",
    "source='A'\n",
    "Target=['D','E']\n",
    "nxG=nx.DiGraph(G)\n",
    "pos_nodes = nx.nx_agraph.pygraphviz_layout(nxG,prog='dot',root=source)\n",
    "nx.draw(nxG,pos=pos_nodes, with_labels=True, node_color=\"lightgray\")\n",
    "nx.draw_networkx_nodes(G,pos=pos_nodes, nodelist=Target, node_color='gray')"
   ]
  },
  {
   "attachments": {},
   "cell_type": "markdown",
   "metadata": {},
   "source": [
    "\n",
    "## Breath-first search algorithm\n",
    "BFS(G,source)  \n",
    "> Open = Queue(source)  \n",
    "> Closed = $\\emptyset$  \n",
    "> while Open != $\\emptyset$\n",
    ">> s = Unqueue(Open)  \n",
    ">> Closed = Closed $\\cup$ $\\{s\\}$  \n",
    ">> for n $\\in$ Adjacents(G,s)  \n",
    ">>> if n $\\notin$ Closed  \n",
    ">>>> if n $\\notin$ Open  \n",
    ">>>>> if Target(n) return n  \n",
    ">>>>> Append(Open,n)  \n",
    "return NULL"
   ]
  },
  {
   "attachments": {},
   "cell_type": "markdown",
   "metadata": {},
   "source": [
    "### BFS implementation returning the target node that was reached"
   ]
  },
  {
   "cell_type": "code",
   "execution_count": 78,
   "metadata": {},
   "outputs": [
    {
     "name": "stdout",
     "output_type": "stream",
     "text": [
      "D\n"
     ]
    }
   ],
   "source": [
    "# G is a graph represented as an adjancency list. \n",
    "# source is the label (string) of the source node\n",
    "# target is the list of target nodes\n",
    "def bfs(G, source, Target):\n",
    "  if source in Target: \n",
    "    return source\n",
    "  # Open is a list of nodes to be visited. FIFO list of nodes\n",
    "  Open=[]; Open.append(source)\n",
    "  # Closed is a list of visited nodes.  FIFO list of nodes\n",
    "  Closed=[]; \n",
    "\t\n",
    "  while Open != []:\n",
    "    node = Open[0]; Open.pop(0)\n",
    "    Closed.append(node)\n",
    "    for child in G[node]:\n",
    "      if child not in Closed:\n",
    "        if child not in Open:\n",
    "          if child in Target: \n",
    "            return child\n",
    "          Open.append(child)\n",
    "\t\t\t\t\n",
    "\t\t\t\t\n",
    "print(bfs(G,source,Target))"
   ]
  },
  {
   "attachments": {},
   "cell_type": "markdown",
   "metadata": {},
   "source": [
    "### BFS implementation returning the path from the source to the target node"
   ]
  },
  {
   "cell_type": "code",
   "execution_count": 57,
   "metadata": {},
   "outputs": [
    {
     "name": "stdout",
     "output_type": "stream",
     "text": [
      "['A', 'C', 'E']\n"
     ]
    }
   ],
   "source": [
    "def path2source(node, target, Closed):\n",
    "  path = [target]\n",
    "  while node != None:\n",
    "    path.insert(0,node)\n",
    "    node = Closed[node]\n",
    "  return path\n",
    "\n",
    "def bfs(G, source, target):\n",
    "  if source == target: \n",
    "    path = [source]; return path\n",
    "  # Open is a list of nodes to be visited. FIFO list of tuples (node, parent)\n",
    "  Open=[]; Open.append((source,None))\n",
    "  # Closed is a list of visited nodes.  Hash table of key: node and value: parent\n",
    "  Closed={}; \n",
    "\t\n",
    "  while Open != []:\n",
    "    (node,parent) = Open[0]; Open.pop(0)\n",
    "    Closed.update({node:parent})\n",
    "    for child in G[node]:\n",
    "      if child not in Closed:\n",
    "        if child not in [n for (n,p) in Open]:\n",
    "          if child == target: \n",
    "            return path2source(node, target, Closed)\n",
    "          Open.append((child,node))\n",
    "\t\t\t\t\n",
    "\t\t\t\t\n",
    "print(bfs(G,'A','E'))\n"
   ]
  },
  {
   "cell_type": "code",
   "execution_count": 41,
   "metadata": {},
   "outputs": [
    {
     "name": "stdout",
     "output_type": "stream",
     "text": [
      "A\n"
     ]
    }
   ],
   "source": [
    "lista = [('A','a'),('B','b')]\n",
    "c='A'\n",
    "if c in [a for (a,b) in lista]:\n",
    "  print(c)"
   ]
  },
  {
   "cell_type": "code",
   "execution_count": 48,
   "metadata": {},
   "outputs": [
    {
     "ename": "TypeError",
     "evalue": "'Queue' object is not iterable",
     "output_type": "error",
     "traceback": [
      "\u001b[0;31m---------------------------------------------------------------------------\u001b[0m",
      "\u001b[0;31mTypeError\u001b[0m                                 Traceback (most recent call last)",
      "Cell \u001b[0;32mIn[48], line 3\u001b[0m\n\u001b[1;32m      1\u001b[0m Open\u001b[39m=\u001b[39mQueue(); Open\u001b[39m.\u001b[39mput((\u001b[39m'\u001b[39m\u001b[39mA\u001b[39m\u001b[39m'\u001b[39m,\u001b[39m'\u001b[39m\u001b[39ma\u001b[39m\u001b[39m'\u001b[39m)); Open\u001b[39m.\u001b[39mput((\u001b[39m'\u001b[39m\u001b[39mB\u001b[39m\u001b[39m'\u001b[39m,\u001b[39m'\u001b[39m\u001b[39mb\u001b[39m\u001b[39m'\u001b[39m))\n\u001b[1;32m      2\u001b[0m c\u001b[39m=\u001b[39m\u001b[39m'\u001b[39m\u001b[39mA\u001b[39m\u001b[39m'\u001b[39m\n\u001b[0;32m----> 3\u001b[0m \u001b[39mfor\u001b[39;00m c \u001b[39min\u001b[39;00m [a \u001b[39mfor\u001b[39;00m (a,b) \u001b[39min\u001b[39;00m Open]:\n\u001b[1;32m      4\u001b[0m    \u001b[39mprint\u001b[39m(c)\n",
      "\u001b[0;31mTypeError\u001b[0m: 'Queue' object is not iterable"
     ]
    }
   ],
   "source": [
    " Open=Queue(); Open.put(('A','a')); Open.put(('B','b'))\n",
    " c='A'\n",
    "for c in [a for (a,b) in Open]:\n",
    "    print(c)"
   ]
  },
  {
   "cell_type": "code",
   "execution_count": null,
   "metadata": {},
   "outputs": [],
   "source": []
  },
  {
   "cell_type": "code",
   "execution_count": 10,
   "metadata": {},
   "outputs": [],
   "source": []
  },
  {
   "cell_type": "code",
   "execution_count": null,
   "metadata": {},
   "outputs": [],
   "source": [
    "print(nx.shortest_path(G,source='A',target='E'))\n",
    "print(sorted(list(nx.bfs_tree(G,source='A',depth_limit=3).edges())))"
   ]
  }
 ],
 "metadata": {
  "kernelspec": {
   "display_name": "Python 3",
   "language": "python",
   "name": "python3"
  },
  "language_info": {
   "codemirror_mode": {
    "name": "ipython",
    "version": 3
   },
   "file_extension": ".py",
   "mimetype": "text/x-python",
   "name": "python",
   "nbconvert_exporter": "python",
   "pygments_lexer": "ipython3",
   "version": "3.8.10"
  },
  "orig_nbformat": 4
 },
 "nbformat": 4,
 "nbformat_minor": 2
}
