{
 "cells": [
  {
   "attachments": {},
   "cell_type": "markdown",
   "metadata": {},
   "source": [
    "# Breadth-first search (BFS) "
   ]
  },
  {
   "cell_type": "code",
   "execution_count": 1,
   "metadata": {},
   "outputs": [
    {
     "data": {
      "text/plain": [
       "<matplotlib.collections.PathCollection at 0x7fd2df140a00>"
      ]
     },
     "execution_count": 1,
     "metadata": {},
     "output_type": "execute_result"
    },
    {
     "data": {
      "image/png": "[encoded data removed]",
      "text/plain": [
       "<Figure size 432x288 with 1 Axes>"
      ]
     },
     "metadata": {},
     "output_type": "display_data"
    }
   ],
   "source": [
    "import networkx as nx\n",
    "# G is a graph represented as an adjancency list. \n",
    "# G is a hash table (dictionary) with each node as a key, and value, the list of adjacent nodes\n",
    "G={'A':['B','C'],'B':['A','D'],'C':['A','E'],'D':['B','E'],'E':['C','D']}\n",
    "source='A'\n",
    "Target=['D','E']\n",
    "nxG=nx.DiGraph(G)\n",
    "pos_ss = {'A': (20, 300), 'B': (10, 200), 'C': (30, 200), 'D': (10, 100), 'E': (30, 100)}\n",
    "#pos_ss = nx.nx_agraph.pygraphviz_layout(nxG,prog='dot',root=source)\n",
    "nx.draw(nxG,pos=pos_nodes, with_labels=True, node_color=\"lightgray\")\n",
    "nx.draw_networkx_nodes(G,pos=pos_nodes, nodelist=Target, node_color='gray')"
   ]
  },
  {
   "attachments": {},
   "cell_type": "markdown",
   "metadata": {},
   "source": [
    "\n",
    "## BFS algorithm\n",
    "BFS(G,source)  \n",
    "> Open = Queue(source)  \n",
    "> Closed = $\\emptyset$  \n",
    "> while Open $\\neq \\emptyset$\n",
    ">> s = Unqueue(Open)  \n",
    ">> Closed = Closed $\\cup$ $\\{s\\}$  \n",
    ">> for n $\\in$ Adjacents(G,s)  \n",
    ">>> if n $\\notin$ Closed  \n",
    ">>>> if n $\\notin$ Open  \n",
    ">>>>> if Target(n) return n  \n",
    ">>>>> Append(Open,n)  \n",
    "> return NULL"
   ]
  },
  {
   "attachments": {},
   "cell_type": "markdown",
   "metadata": {},
   "source": [
    "### BFS implementation interactively showing the sequence of nodes visited "
   ]
  },
  {
   "cell_type": "code",
   "execution_count": 3,
   "metadata": {},
   "outputs": [
    {
     "data": {
      "image/png": "[encoded data removed]",
      "text/plain": [
       "<Figure size 432x288 with 1 Axes>"
      ]
     },
     "metadata": {},
     "output_type": "display_data"
    },
    {
     "name": "stdout",
     "output_type": "stream",
     "text": [
      "D\n"
     ]
    }
   ],
   "source": [
    "from IPython.display import clear_output\n",
    "import matplotlib.pyplot as plt\n",
    "\n",
    "def idraw_graph(DG, source, target=[]):\n",
    "  clear_output()\n",
    "  nxDG=nx.DiGraph(DG)\n",
    "  pos_nodes = nx.nx_agraph.pygraphviz_layout(nxDG,prog='dot',root=source)\n",
    "  nx.draw(nxDG,pos=pos_nodes, with_labels=True, node_color=\"lightgray\", node_size=800, font_size=20)\n",
    "  nx.draw_networkx_nodes(DG,pos=pos_nodes, nodelist=target, node_color='gray', node_size=800)\n",
    "  plt.show()\n",
    "  input()\n",
    "\n",
    "# G is a graph represented as an adjancency list. \n",
    "# source is the label (string) of the source node\n",
    "# target is the list of target nodes\n",
    "def bfs(G, source, Target):\n",
    "  DG={source:[]}\n",
    "  idraw_graph(DG, source)\n",
    "  if source in Target:\n",
    "    return source, DG\n",
    "  # Open is a list of nodes to be visited. FIFO list of nodes\n",
    "  Open = []; Open.append(source)\n",
    "  # Closed is a list of visited nodes.  FIFO list of nodes\n",
    "  Closed = []; \n",
    "\t\n",
    "  while Open != []:\n",
    "    # Extract node from the the head of the Open list\n",
    "    s = Open.pop(0)\n",
    "    # Append node at the end of the Closed list\n",
    "    Closed.append(s)\n",
    "    Adj = DG[s]\n",
    "    # For each adjacent node\n",
    "    for n in G[s]:\n",
    "      if n not in Closed:\n",
    "        if n not in Open:\n",
    "          Adj.append(n); DG[s]=Adj\n",
    "          DG.update({n:[]})\n",
    "          if n in Target:\n",
    "            idraw_graph(DG, source, [n])\n",
    "            return n\n",
    "          Open.append(n)\n",
    "          idraw_graph(DG, source)\n",
    "          \n",
    "\t\t\t\t\n",
    "print(bfs(G,source,Target))"
   ]
  }
 ],
 "metadata": {
  "kernelspec": {
   "display_name": "Python 3",
   "language": "python",
   "name": "python3"
  },
  "language_info": {
   "codemirror_mode": {
    "name": "ipython",
    "version": 3
   },
   "file_extension": ".py",
   "mimetype": "text/x-python",
   "name": "python",
   "nbconvert_exporter": "python",
   "pygments_lexer": "ipython3",
   "version": "3.8.10"
  },
  "orig_nbformat": 4
 },
 "nbformat": 4,
 "nbformat_minor": 2
}
