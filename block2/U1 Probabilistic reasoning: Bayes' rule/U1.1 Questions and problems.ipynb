{
 "cells": [
  {
   "cell_type": "markdown",
   "metadata": {},
   "source": [
    "# T1.1 Probabilistic reasoning: representation and inference"
   ]
  },
  {
   "cell_type": "markdown",
   "metadata": {},
   "source": [
    "**2023_01_17_Question 1:** Suppose we have two boxes with 40 oranges in the first and 80 in the second. The first box contains 9 Navelina and 31 Caracara oranges. The second box contains three times more Navelina oranges than Caracara. Now suppose a box is chosen at random, and then an orange is chosen at random from the chosen box. If the orange chosen is Navelina, the probability $P$ that it comes from the first box is:\n",
    "1. $0/4\\leq P<1/4$.\n",
    "2. $1/4\\leq P<2/4$.\n",
    "3. $2/4\\leq P<3/4$.\n",
    "4. $3/4\\leq P\\leq 4/4$."
   ]
  },
  {
   "cell_type": "markdown",
   "metadata": {},
   "source": [
    "**Solution:** $\\;P=0.13$"
   ]
  }
 ],
 "metadata": {
  "language_info": {
   "name": "python"
  }
 },
 "nbformat": 4,
 "nbformat_minor": 2
}
