{
 "cells": [
  {
   "attachments": {},
   "cell_type": "markdown",
   "metadata": {},
   "source": [
    "# Breadth-first search (BFS) "
   ]
  },
  {
   "cell_type": "markdown",
   "metadata": {},
   "source": [
    "Breadth-first search enumerates paths (from the source node) until it finds a solution (target node) prioritizing those paths with minimum length and avoiding cycles (without repeating nodes). "
   ]
  },
  {
   "cell_type": "markdown",
   "metadata": {},
   "source": [
    "<img src=\"state_graph.png\" width=\"50%\"/>"
   ]
  },
  {
   "attachments": {},
   "cell_type": "markdown",
   "metadata": {},
   "source": [
    "\n",
    "## BFS algorithm with graph search\n",
    "BFS(G, source)  \n",
    "> Open = InitQueue(source)  \n",
    "> Closed = $\\emptyset$  \n",
    "> while Open $\\neq \\emptyset$\n",
    ">> s = Unqueue(Open)  \n",
    ">> Closed = Closed $\\cup$ $\\{s\\}$  \n",
    ">> for n $\\in$ Adjacents(G, s)  \n",
    ">>> if n $\\notin$ Closed  \n",
    ">>>> if n $\\notin$ Open  \n",
    ">>>>> if Target(n) return n  \n",
    ">>>>> Append(Open, n)  \n",
    "> return NULL"
   ]
  },
  {
   "cell_type": "markdown",
   "metadata": {},
   "source": [
    "BFS generates a tree search rooted at the source node and depth $m$ equal to the length of the shortest path reaching a solution (target node). Ties (draws) are broken using the alphabetic order of the nodes."
   ]
  },
  {
   "cell_type": "markdown",
   "metadata": {},
   "source": [
    "### Search space"
   ]
  },
  {
   "cell_type": "markdown",
   "metadata": {},
   "source": [
    "<img src=\"search_space.png\" width=\"100%\"/>"
   ]
  },
  {
   "attachments": {},
   "cell_type": "markdown",
   "metadata": {},
   "source": [
    "\n",
    "BFS generates a tree search and depth $m$ equal to the shortest path to the solution  \n",
    "\n",
    "BFS is complete, because it always find the solution, if exists  \n",
    "\n",
    "BFS is optimal, that is, it finds the path with minimum cost, if actions (edge cost) have identical positive costs  \n",
    "\n",
    "**Complexity**: G with branching factor $b$ and depth $m$ generating a complete tree\n",
    "  \n",
    "  $O(b^m)$ temporal and spatial cost, if target checked when node is generated\n",
    "  \n",
    "  $O(b^{m+1})$ temporal and spatial cost, if target checked when node is expanded\n",
    "  \n"
   ]
  }
 ],
 "metadata": {
  "kernelspec": {
   "display_name": "Python 3",
   "language": "python",
   "name": "python3"
  },
  "language_info": {
   "codemirror_mode": {
    "name": "ipython",
    "version": 3
   },
   "file_extension": ".py",
   "mimetype": "text/x-python",
   "name": "python",
   "nbconvert_exporter": "python",
   "pygments_lexer": "ipython3",
   "version": "3.8.10"
  },
  "orig_nbformat": 4
 },
 "nbformat": 4,
 "nbformat_minor": 2
}
