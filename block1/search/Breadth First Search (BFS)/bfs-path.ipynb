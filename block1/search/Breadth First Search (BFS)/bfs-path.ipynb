{
 "cells": [
  {
   "attachments": {},
   "cell_type": "markdown",
   "metadata": {},
   "source": [
    "# Breadth-first search (BFS) "
   ]
  },
  {
   "cell_type": "code",
   "execution_count": 3,
   "metadata": {},
   "outputs": [
    {
     "data": {
      "text/plain": [
       "<matplotlib.collections.PathCollection at 0x7f214ea9c6a0>"
      ]
     },
     "execution_count": 3,
     "metadata": {},
     "output_type": "execute_result"
    },
    {
     "data": {
      "image/png": "[encoded data removed]",
      "text/plain": [
       "<Figure size 432x288 with 1 Axes>"
      ]
     },
     "metadata": {},
     "output_type": "display_data"
    }
   ],
   "source": [
    "import networkx as nx\n",
    "# G is a graph represented as an adjancency list. \n",
    "# G is a hash table (dictionary) with each node as a key, and value, the list of adjacent nodes\n",
    "G={'A':['B','C'],'B':['A','D'],'C':['A','E'],'D':['B','E'],'E':['C','D']}\n",
    "source='A'\n",
    "Target=['D','E']\n",
    "nxG=nx.DiGraph(G)\n",
    "pos_nodes = {'A': (20, 300), 'B': (10, 200), 'C': (30, 200), 'D': (10, 100), 'E': (30, 100)}\n",
    "#pos_nodes = nx.nx_agraph.pygraphviz_layout(nxG,prog='dot',root=source)\n",
    "nx.draw(nxG,pos=pos_nodes, with_labels=True, node_color=\"lightgray\")\n",
    "nx.draw_networkx_nodes(G,pos=pos_nodes, nodelist=Target, node_color='gray')"
   ]
  },
  {
   "attachments": {},
   "cell_type": "markdown",
   "metadata": {},
   "source": [
    "\n",
    "## BFS algorithm\n",
    "BFS(G,source)  \n",
    "> Open = Queue(source)  \n",
    "> Closed = $\\emptyset$  \n",
    "> while Open $\\neq \\emptyset$\n",
    ">> s = Unqueue(Open)  \n",
    ">> Closed = Closed $\\cup$ $\\{s\\}$  \n",
    ">> for n $\\in$ Adjacents(G,s)  \n",
    ">>> if n $\\notin$ Closed  \n",
    ">>>> if n $\\notin$ Open  \n",
    ">>>>> if Target(n) return n  \n",
    ">>>>> Append(Open,n)  \n",
    "> return NULL"
   ]
  },
  {
   "attachments": {},
   "cell_type": "markdown",
   "metadata": {},
   "source": [
    "### BFS implementation returning the path from the source to the target node"
   ]
  },
  {
   "cell_type": "code",
   "execution_count": 5,
   "metadata": {},
   "outputs": [
    {
     "name": "stdout",
     "output_type": "stream",
     "text": [
      "['A', 'B', 'D']\n"
     ]
    }
   ],
   "source": [
    "def path2source(source, target, Closed):\n",
    "  path = [target]\n",
    "  node = source\n",
    "  while node != None:\n",
    "    path.insert(0,node)\n",
    "    node = Closed[node]\n",
    "  return path\n",
    "\n",
    "def bfs(G, source, Target):\n",
    "  if source in Target: \n",
    "    path = [source]; return path\n",
    "  # Open is a list of nodes to be visited. FIFO list of tuples (node, parent)\n",
    "  Open = []; Open.append((source,None))\n",
    "  # Closed is a list of visited nodes.  Hash table of key: node and value: parent\n",
    "  Closed = {}; \n",
    "\t\n",
    "  while Open != []:\n",
    "    (s,parent) = Open.pop(0)\n",
    "    Closed.update({s:parent})\n",
    "    for n in G[s]:\n",
    "      if n not in Closed:\n",
    "        if n not in [n for (n,p) in Open]:\n",
    "          if n in Target: \n",
    "            return path2source(s, n, Closed)\n",
    "          Open.append((n,s))\n",
    "\t\t\t\t\n",
    "\t\t\t\t\n",
    "print(bfs(G,source,Target))\n"
   ]
  }
 ],
 "metadata": {
  "kernelspec": {
   "display_name": "Python 3",
   "language": "python",
   "name": "python3"
  },
  "language_info": {
   "codemirror_mode": {
    "name": "ipython",
    "version": 3
   },
   "file_extension": ".py",
   "mimetype": "text/x-python",
   "name": "python",
   "nbconvert_exporter": "python",
   "pygments_lexer": "ipython3",
   "version": "3.8.10"
  },
  "orig_nbformat": 4
 },
 "nbformat": 4,
 "nbformat_minor": 2
}
