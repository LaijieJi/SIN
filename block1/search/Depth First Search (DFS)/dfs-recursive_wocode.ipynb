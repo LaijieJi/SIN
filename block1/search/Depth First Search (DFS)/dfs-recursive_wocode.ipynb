{
 "cells": [
  {
   "attachments": {},
   "cell_type": "markdown",
   "metadata": {},
   "source": [
    "# Depth-first search (DFS)  \n",
    "Depth-first search enumerates paths (from the source node) until it finds a solution (target node) prioritizing the deepest (longest) paths and limiting the maximum depth (only finite paths). "
   ]
  },
  {
   "cell_type": "markdown",
   "metadata": {},
   "source": [
    "<img src=\"state_graph.png\" width=\"50%\"/>"
   ]
  },
  {
   "attachments": {},
   "cell_type": "markdown",
   "metadata": {},
   "source": [
    "\n",
    "## DFS algorithm with maximum depth m (recursive version - tree search)\n",
    "DFS(G, s, m)  \n",
    "> if Target(s) return s  \n",
    "> if m == 0 return NULL  \n",
    "> for n $\\in$ Adjacents(G, s):  \n",
    ">>  if (r = DFS(G, n, m-1)) $\\neq$ NULL: return r  \n",
    "\n",
    "> return NULL"
   ]
  },
  {
   "cell_type": "markdown",
   "metadata": {},
   "source": [
    "### Search space"
   ]
  },
  {
   "cell_type": "markdown",
   "metadata": {},
   "source": [
    "<img src=\"search_space_recursive.png\" width=\"80%\"/>"
   ]
  },
  {
   "attachments": {},
   "cell_type": "markdown",
   "metadata": {},
   "source": [
    "DFS is incomplete and suboptimal  \n",
    "\n",
    "**Complexity**: G with branching factor $b$ and depth $m$ \n",
    "  \n",
    "  $O(b^m)$ temporal cost and $O(bm)$ spatial cost"
   ]
  }
 ],
 "metadata": {
  "kernelspec": {
   "display_name": "Python 3",
   "language": "python",
   "name": "python3"
  },
  "language_info": {
   "codemirror_mode": {
    "name": "ipython",
    "version": 3
   },
   "file_extension": ".py",
   "mimetype": "text/x-python",
   "name": "python",
   "nbconvert_exporter": "python",
   "pygments_lexer": "ipython3",
   "version": "3.8.10"
  },
  "orig_nbformat": 4
 },
 "nbformat": 4,
 "nbformat_minor": 2
}
