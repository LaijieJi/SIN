{
 "cells": [
  {
   "cell_type": "markdown",
   "metadata": {},
   "source": [
    "# U1.2 Continuous variables and Bayes' rule"
   ]
  },
  {
   "cell_type": "markdown",
   "metadata": {},
   "source": [
    "# Index\n",
    "\n",
    "1. Continuous variables\n",
    "2. Bayes' theorem in the continuous case\n",
    "3. Bayes' decision rule\n",
    "4. Generative and discriminative classifiers"
   ]
  },
  {
   "cell_type": "markdown",
   "metadata": {},
   "source": [
    "<p style=\"page-break-after:always;\"></p>"
   ]
  },
  {
   "cell_type": "markdown",
   "metadata": {},
   "source": [
    "# 1 Continuous variables\n",
    "\n",
    "**Probability density function:** $\\;$ Usual characterization of continuous variables for the representation of probabilistic knowledge\n",
    "$$p(x)\\geq 0 \\quad \\text{for all $x$} \\qquad \\text{and} \\qquad \\int p(x)\\,dx = 1$$\n",
    "\n",
    "**The normal density:** $\\;p(x)\\sim\\mathcal{N}(\\mu, \\sigma^2)$\n",
    "$$p(x)=\\frac{1}{\\sqrt{2\\pi}\\sigma}\\exp\\left(-\\frac{(x-\\mu)^2}{2\\,\\sigma^2} \\,\\right)\\qquad%\n",
    "P(x\\in[\\mu\\pm 1.96\\sigma])=0.95$$\n",
    "\n",
    "**Example:** $\\;$ normal densities with $\\,\\mu=0\\,$ and $\\,\\sigma^2=0.5, 1, 2$"
   ]
  },
  {
   "cell_type": "code",
   "execution_count": 4,
   "metadata": {},
   "outputs": [
    {
     "data": {
      "image/png": "[encoded data removed]",
      "text/plain": [
       "<Figure size 500x250 with 1 Axes>"
      ]
     },
     "metadata": {},
     "output_type": "display_data"
    }
   ],
   "source": [
    "import numpy as np; from scipy.stats import norm; import matplotlib.pyplot as plt\n",
    "x = np.linspace(-3, 3, 200)\n",
    "plt.figure(figsize=(5, 2.5))\n",
    "plt.plot(x, norm.pdf(x, 0, np.sqrt(0.5)), x, norm.pdf(x, 0, 1), x, norm.pdf(x, 0, np.sqrt(2)));"
   ]
  },
  {
   "cell_type": "markdown",
   "metadata": {},
   "source": [
    "<p style=\"page-break-after:always;\"></p>"
   ]
  },
  {
   "cell_type": "markdown",
   "metadata": {},
   "source": [
    "# 2 Bayes theorem in the continuous case\n",
    "\n",
    "**Bayes theorem in the continuous case:** $\\;$ Probability of a hypothesis $\\,y\\,$ after observing (new) evidence $x$\n",
    "$$P(y\\mid x) = P(y)\\,\\frac{p(x\\mid y)}{p(x)}$$\n",
    "\n",
    "**Example:** $\\;x=\\,$ result of a saliva test for caries diagnosis\n",
    "* Without caries, $\\,c=0,\\,p(x\\mid c=0)\\sim\\mathcal{N}(\\mu=0, \\sigma^2=1)$\n",
    "* With caries, $\\,c=0,\\,p(x\\mid c=1)\\sim\\mathcal{N}(\\mu=2, \\sigma^2=0.5)$\n",
    "* We know that the probability (a priori) of caries is: $\\,P(c=1)=0.34$\n",
    "* **If the test gives $x=2$, what is the (posterior) probability of caries?**\n",
    "$$P(c=1\\mid x=2) = P(c=1)\\,\\dfrac{p(x=2\\mid c=1)}{p(x=2)} = 0.340\\, \\dfrac{0.798}{0.307} = 0.884$$\n",
    "* Note that first it was necessary to find the (density of) probability (a priori) of test $x=2$:\n",
    "$$\\begin{align*}\n",
    "p(x=2)&=P(c=0)p(x=2\\mid c=0)+P(c=1)p(x=2\\mid c=1)\\\\\n",
    "&=(1-0.34)\\cdot 0.054+0.34\\cdot 0.798=0.307\n",
    "\\end{align*}$$"
   ]
  },
  {
   "cell_type": "code",
   "execution_count": 3,
   "metadata": {},
   "outputs": [
    {
     "name": "stdout",
     "output_type": "stream",
     "text": [
      "px2Dc0 = 0.054  px2Dc1 = 0.798  px2 = 0.307  Pc1Dx2 = 0.884\n"
     ]
    }
   ],
   "source": [
    "Pc1 = 0.34; px2Dc0 = norm.pdf(2, 0, 1); px2Dc1 = norm.pdf(2, 2, 0.5)\n",
    "px2 = (1-Pc1) * px2Dc0 + Pc1 * px2Dc1; Pc1Dx2 = Pc1 * px2Dc1 / px2\n",
    "print(f\"px2Dc0 = {px2Dc0:.3f}  px2Dc1 = {px2Dc1:.3f}  px2 = {px2:.3f}  Pc1Dx2 = {Pc1Dx2:.3f}\")"
   ]
  },
  {
   "cell_type": "markdown",
   "metadata": {},
   "source": [
    "<p style=\"page-break-after:always;\"></p>"
   ]
  },
  {
   "cell_type": "markdown",
   "metadata": {},
   "source": [
    "# 3 Bayes' decision rule\n",
    "\n",
    "**Bayes' decision rule:** $\\;$ Predicts a hypothesis after observing some evidence $\\,x\\,$ by choosing, from a set of possible hypotheses $\\,\\mathcal{C},\\,$ a hypothesis of maximum **posterior probability** (from the observation of the evidence)\n",
    "$$c^*(x) = \\operatorname*{argmax}_{c\\in\\mathcal{C}} \\; P(c\\mid x)$$\n",
    "\n",
    "**Probability of error:** $\\;$ That is, the probability that the predicted hypothesis is different from the correct one\n",
    "$$P(\\text{error}\\mid x)=1-P(c^*(x)\\mid x)$$\n",
    "\n",
    "**Bayes' rule optimality:** $\\;$ No other choice would improve this error probability!\n",
    "\n",
    "**Dentist example:**\n",
    "$$c^*(x=2)=\\operatorname*{argmax}_c\\left(\\begin{array}{l}\n",
    "     P(c=0\\mid x=2) = 0.116\\\\ %\n",
    "     P(c=1\\mid x=2) = 0.884\\end{array}\\right)=1$$\n",
    "\n",
    "**Bayes' rule based on prior probabilities and conditional (densities) of classes:** $\\;$ Instead of (arg-)maximize $\\,P(c\\mid x)\\,$ in $ c$, we do it as a function of $\\,P(c)\\,p(x\\mid c)$ since the result is the same\n",
    "$$\n",
    "   c^*(x) = \\operatorname*{argmax}_{c\\in\\mathcal{C}} \\; P(c\\mid x) \n",
    "          = \\operatorname*{argmax}_{c\\in\\mathcal{C}} \\; P(c)\\,\\frac{p(x\\mid c)}{p(x)}\n",
    "          = \\operatorname*{argmax}_{c\\in\\mathcal{C}} \\; P(c)\\,p(x\\mid c)\n",
    "$$\n",
    "\n",
    "**Dentist example:**\n",
    "$$c^*(x=2)=\\operatorname*{argmax}_c\\left(\\begin{array}{l}\n",
    "P(c=0)\\,p(x=2\\mid c=0) = 0.036\\\\ %\n",
    "P(c=1)\\,p(x=2\\mid c=1) = 0.271\n",
    "\\end{array}\\right)=1$$"
   ]
  },
  {
   "cell_type": "markdown",
   "metadata": {},
   "source": [
    "<p style=\"page-break-after:always;\"></p>"
   ]
  },
  {
   "cell_type": "markdown",
   "metadata": {},
   "source": [
    "# 4 Generative and discriminative classifiers\n",
    "\n",
    "**Bayes' rule in classification:** $\\;$ The hypotheses are the classes and the evidence $x$ is an object that we classify with minimal error probability\n",
    "$$c^*(x) = \\operatorname*{argmax}_{c\\in\\mathcal{C}} \\; P(c\\mid x) %\n",
    "= \\operatorname*{argmax}_{c\\in\\mathcal{C}} \\; p(x, c) %\n",
    "= \\operatorname*{argmax}_{c\\in\\mathcal{C}} \\; P(c)\\,p(x\\mid c)$$\n",
    "\n",
    "**Generative classifiers:** $\\;$ Classify based on (estimated) priors and conditional probability densities\n",
    "\n",
    "**Discriminatory classifiers:** $\\;$ Classify based on the (estimated) posterior  probabilities\n",
    "\n",
    "**Basic comparison between generative and discriminative:**\n",
    "* **Feature preprocessing:** $\\;$ Discriminative ones more flexible because, unlike generative ones, they do not require modeling probability densities over the data representation space\n",
    "* **Difficulty of learning:** $\\;$ Easier in the case of generatives, usually with counts and averages\n",
    "* **Predictive accuracy:** $\\;$ Better the discriminative ones since modeling $\\,P(c\\mid x)\\,$ directly is usually easier than doing it through the conditionals of the classes\n",
    "* **Treatment of new classes:** $\\;$ Simpler in the case of generatives because they allow adding new classes to a problem without re-training the conditionals of the previous classes"
   ]
  },
  {
   "cell_type": "markdown",
   "metadata": {},
   "source": [
    "<p style=\"page-break-after:always;\"></p>"
   ]
  }
 ],
 "metadata": {
  "kernelspec": {
   "display_name": "Python 3",
   "language": "python",
   "name": "python3"
  },
  "language_info": {
   "codemirror_mode": {
    "name": "ipython",
    "version": 3
   },
   "file_extension": ".py",
   "mimetype": "text/x-python",
   "name": "python",
   "nbconvert_exporter": "python",
   "pygments_lexer": "ipython3",
   "version": "3.12.3"
  },
  "orig_nbformat": 4
 },
 "nbformat": 4,
 "nbformat_minor": 2
}
