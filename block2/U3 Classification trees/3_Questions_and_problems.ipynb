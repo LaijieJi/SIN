{
 "cells": [
  {
   "cell_type": "markdown",
   "metadata": {},
   "source": [
    "# U3 Classification trees"
   ]
  },
  {
   "cell_type": "markdown",
   "metadata": {},
   "source": [
    "**2023_01_26_Question 3:** $\\;$ Consider the classification tree learning algorithm applied to a four-class problem, $c=1,2,3,4$. The algorithm has reached a node $t$ with the following data: $2$ from class $1$, $16$ from $2$, $8$ from $3$ and $256$ from $4$. The impurity of $t$, $\\mathcal{I}(t)$, measured as the entropy of the class posterior probability given by the empirical distribution in $t$, is:\n",
    "1. $0.00\\leq \\mathcal{I}(t)<0.50$\n",
    "2. $0.50\\leq \\mathcal{I}(t)<1.00$\n",
    "3. $1.00\\leq \\mathcal{I}(t)<1.50$\n",
    "4. $1.50\\leq \\mathcal{I}(t)$"
   ]
  },
  {
   "cell_type": "markdown",
   "metadata": {},
   "source": [
    "<p style=\"page-break-after:always;\"></p>"
   ]
  },
  {
   "cell_type": "markdown",
   "metadata": {},
   "source": [
    "**Solution:** $\\;$ option 2.\n",
    "$$\\begin{align*}\n",
    "\\mathcal{I}(t) &= -\\sum_{c=1}^4 \\hat{P}(c\\mid t)\\,\\log_2 \\hat{P}(c\\mid t)\\\\\n",
    "&= -\\frac{2}{282}\\log_2 \\frac{2}{282} -\\frac{16}{282}\\log_2 \\frac{16}{282} -\\frac{8}{282}\\log_2 \\frac{8}{282}-\\frac{256}{282}\\log_2 \\frac{256}{282}=0.56\n",
    "\\end{align*}$$"
   ]
  },
  {
   "cell_type": "markdown",
   "metadata": {},
   "source": [
    "<p style=\"page-break-after:always;\"></p>"
   ]
  },
  {
   "cell_type": "markdown",
   "metadata": {},
   "source": [
    "**2023_01_17_Question 5:** $\\;$ Consider the classification tree learning algorithm applied to a two-class problem, $c=A,B$. The algorithm has reached a node $t$ whose impurity, measured as the entropy of the class posterior probability given by the empirical distribution in $t$, is $I=0.72$. What is the number of samples in each of the classes in node $t$?\n",
    "1. 2 in class A and 32 in class B\n",
    "2. 2 in class A and 16 in class B\n",
    "3. 4 in class A and 32 in class B\n",
    "4. 4 in class A and 16 in class B"
   ]
  },
  {
   "cell_type": "markdown",
   "metadata": {},
   "source": [
    "<p style=\"page-break-after:always;\"></p>"
   ]
  },
  {
   "cell_type": "markdown",
   "metadata": {},
   "source": [
    "**Solution:** $\\;$ option 4."
   ]
  },
  {
   "cell_type": "markdown",
   "metadata": {},
   "source": [
    "<p style=\"page-break-after:always;\"></p>"
   ]
  },
  {
   "cell_type": "markdown",
   "metadata": {},
   "source": [
    "**2023_01_17_Question 6:** "
   ]
  },
  {
   "cell_type": "markdown",
   "metadata": {},
   "source": [
    "The figure below shows a two-class 2d dataset along with a partition of the space into $4$ regions, as well as four possible classification trees. Which of the four is consistent with the data and partition represented?"
   ]
  },
  {
   "cell_type": "markdown",
   "metadata": {},
   "source": [
    "<img src=\"2023_01_17_Q6.png\" width=\"1000\"/>"
   ]
  },
  {
   "cell_type": "markdown",
   "metadata": {},
   "source": [
    "<p style=\"page-break-after:always;\"></p>"
   ]
  },
  {
   "cell_type": "markdown",
   "metadata": {},
   "source": [
    "\n",
    "**Solution:** $\\;$ Tree 1. "
   ]
  },
  {
   "cell_type": "markdown",
   "metadata": {},
   "source": [
    "<p style=\"page-break-after:always;\"></p>"
   ]
  },
  {
   "cell_type": "markdown",
   "metadata": {},
   "source": [
    "**2022_01_27_Question 1:** $\\;$ Given the following 3 nodes of a classification tree with samples belonging to 3 classes:\n",
    "$$\\begin{array}{c|ccc}\n",
    "c & 1 & 2 & 3\\\\\\hline\n",
    "n_{1} & 2/12 & 5/12 & 5/12\\\\\n",
    "n_{2} & 3/11 & 4/11 & 4/11\\\\\n",
    "n_{3} & 5/11 & 3/11 & 3/11\\\\\n",
    "\\end{array}$$\n",
    "where each row indicates the \"posterior\" probability of each class at the node. Which of the following inequalities is true?\n",
    "1. $\\mathcal{I}(n_{1}) < \\mathcal{I}(n_{3}) < \\mathcal{I}(n_{2})$\n",
    "2. $\\mathcal{I}(n_{3}) < \\mathcal{I}(n_{2}) < \\mathcal{I}(n_{1})$\n",
    "3. $\\mathcal{I}(n_{1}) < \\mathcal{I}(n_{2}) < \\mathcal{I}(n_{3})$\n",
    "4. $\\mathcal{I}(n_{2}) < \\mathcal{I}(n_{3}) < \\mathcal{I}(n_{1})$"
   ]
  },
  {
   "cell_type": "markdown",
   "metadata": {},
   "source": [
    "<p style=\"page-break-after:always;\"></p>"
   ]
  },
  {
   "cell_type": "markdown",
   "metadata": {},
   "source": [
    "**Solution:** $\\;$ option 1."
   ]
  },
  {
   "cell_type": "markdown",
   "metadata": {},
   "source": [
    "<p style=\"page-break-after:always;\"></p>"
   ]
  },
  {
   "cell_type": "markdown",
   "metadata": {},
   "source": [
    "**2022_01_13_Question 5:** Given the following dataset used to train a classification tree with 5 two-dimensional samples belonging to 2 classes:\n",
    "$$\\begin{array}{c|cccc}\n",
    "n & 1 & 2 & 3 & 4 & 5\\\\\\hline\n",
    "x_{n1} & 2 & 5 & 4 & 3 & 3\\\\\n",
    "x_{n2} & 4 & 1 & 2 & 5 & 2\\\\\n",
    "c_n & 1 & 1 & 2 & 2 & 2\\\\\n",
    "\\end{array}$$\n",
    "How many different partitions could be generated on the root node? Do not consider partitions where all data is assigned to the same child node.\n",
    "1. $7$\n",
    "2. $8$\n",
    "3. $5$\n",
    "4. $6$"
   ]
  },
  {
   "cell_type": "markdown",
   "metadata": {},
   "source": [
    "<p style=\"page-break-after:always;\"></p>"
   ]
  },
  {
   "cell_type": "markdown",
   "metadata": {},
   "source": [
    "**Solution:** $\\;$ option 4."
   ]
  }
 ],
 "metadata": {
  "kernelspec": {
   "display_name": "Python 3",
   "language": "python",
   "name": "python3"
  },
  "language_info": {
   "codemirror_mode": {
    "name": "ipython",
    "version": 3
   },
   "file_extension": ".py",
   "mimetype": "text/x-python",
   "name": "python",
   "nbconvert_exporter": "python",
   "pygments_lexer": "ipython3",
   "version": "3.11.4"
  }
 },
 "nbformat": 4,
 "nbformat_minor": 2
}
