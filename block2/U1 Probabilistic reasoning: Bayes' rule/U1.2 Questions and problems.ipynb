{
 "cells": [
  {
   "cell_type": "markdown",
   "metadata": {},
   "source": [
    "# U1.2 Continuous variables and Bayes' rule"
   ]
  }
 ],
 "metadata": {
  "language_info": {
   "name": "python"
  }
 },
 "nbformat": 4,
 "nbformat_minor": 2
}
