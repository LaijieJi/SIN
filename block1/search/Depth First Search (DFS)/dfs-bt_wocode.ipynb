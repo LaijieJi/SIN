{
 "cells": [
  {
   "attachments": {},
   "cell_type": "markdown",
   "metadata": {},
   "source": [
    "# Depth-first search (DFS) with backtracking"
   ]
  },
  {
   "cell_type": "markdown",
   "metadata": {},
   "source": [
    "Variant of [DFS (recursive)](dfs-recursive.ipynb) with generation of child nodes on demand. "
   ]
  },
  {
   "cell_type": "markdown",
   "metadata": {},
   "source": [
    "<img src=\"state_graph.png\" width=\"50%\"/>"
   ]
  },
  {
   "attachments": {},
   "cell_type": "markdown",
   "metadata": {},
   "source": [
    "\n",
    "## DFS algorithm with maximum depth m (backtracking version - tree search)\n",
    "BT(G, s, m)  \n",
    "> if Target(s) return s  \n",
    "> if m = 0 return NULL  \n",
    "> n = FirstAdjacent(G,s)  \n",
    "> while n $\\neq$ NULL\n",
    ">>  r = BT(G, n, m-1)  \n",
    ">>  if r $\\neq$ NULL return r  \n",
    ">>  n = NextAdjacent(G, s, n)  \n",
    "> return NULL"
   ]
  },
  {
   "attachments": {},
   "cell_type": "markdown",
   "metadata": {},
   "source": [
    "### Search space"
   ]
  },
  {
   "cell_type": "markdown",
   "metadata": {},
   "source": [
    "!<img src=\"search_space_bt.png\" width=\"80%\"/>"
   ]
  },
  {
   "attachments": {},
   "cell_type": "markdown",
   "metadata": {},
   "source": [
    "BT is incomplete and suboptimal  \n",
    "\n",
    "**Complexity**: G with branching factor $b$ and maximum depth $m$ \n",
    "  \n",
    "  $O(b^m)$ temporal cost and $O(m)$ spatial cost, better spatial cost than the DFS algorithm (tree search) with $O(bm)$"
   ]
  }
 ],
 "metadata": {
  "kernelspec": {
   "display_name": "Python 3",
   "language": "python",
   "name": "python3"
  },
  "language_info": {
   "codemirror_mode": {
    "name": "ipython",
    "version": 3
   },
   "file_extension": ".py",
   "mimetype": "text/x-python",
   "name": "python",
   "nbconvert_exporter": "python",
   "pygments_lexer": "ipython3",
   "version": "3.8.10"
  },
  "orig_nbformat": 4
 },
 "nbformat": 4,
 "nbformat_minor": 2
}
