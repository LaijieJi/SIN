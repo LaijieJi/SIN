{
 "cells": [
  {
   "cell_type": "markdown",
   "metadata": {},
   "source": [
    "# U2.1 Discriminant functions"
   ]
  },
  {
   "cell_type": "markdown",
   "metadata": {},
   "source": [
    "**2023_01_26_Question_2:** $\\;$ Given the classifier in 2 classes defined\n",
    "by their weight vectors $ \\boldsymbol{w}_1 =(-2,3,3)^t,\\; \\boldsymbol{w}_2 =(0,2,-2)^t$ in homogeneous notation,\n",
    "which of the following sets of vectors **does not** define a classifier equivalent to the one given?\n",
    "1. $\\boldsymbol{w}_1 =(1,3,3)^t,\\; \\boldsymbol{w}_2 =(3,2,-2)^t$\n",
    "2. $\\boldsymbol{w}_1 =(-4,6,6)^t,\\; \\boldsymbol{w}_2 =(0,4,-4)^t$\n",
    "3. $\\boldsymbol{w}_1 =(-1,6,6)^t,\\; \\boldsymbol{w}_2 =(3,4,-4)^t$\n",
    "4. $\\boldsymbol{w}_1 =(2,-3,-3)^t,\\; \\boldsymbol{w}_2 =(0,-2,2)^t$"
   ]
  },
  {
   "cell_type": "markdown",
   "metadata": {},
   "source": [
    "**Solution:** $\\;$ Option 4."
   ]
  },
  {
   "cell_type": "markdown",
   "metadata": {},
   "source": [
    "**2023_01_17_Question 3:** $\\;$ Let the classifier in two classes be defined by its border and decision regions in the figure:"
   ]
  },
  {
   "cell_type": "code",
   "execution_count": 1,
   "metadata": {},
   "outputs": [
    {
     "data": {
      "image/png": "[encoded data removed]",
      "text/plain": [
       "<Figure size 200x200 with 1 Axes>"
      ]
     },
     "metadata": {},
     "output_type": "display_data"
    }
   ],
   "source": [
    "import numpy as np; import matplotlib.pyplot as plt\n",
    "plt.figure(figsize=(2, 2)); ticks = np.arange(0, 1.1, 0.25); plt.xticks(ticks); plt.yticks(ticks); plt.grid()\n",
    "plt.plot((0, 1), (0, 1)); plt.text(0.1, 0.6, 'Region 2'); plt.text(0.6, 0.35, 'Region 1');"
   ]
  },
  {
   "cell_type": "markdown",
   "metadata": {},
   "source": [
    "Which of the following weight vectors (in homogeneous notation) defines a classifier equivalent to the given one?\n",
    "1. $\\boldsymbol{w}_1=(0,-2,0)^t\\;$ and $\\;\\boldsymbol{w}_2=(0,0,-2)^t$.\n",
    "2. $\\boldsymbol{w}_1=(0,2,0)^t\\;$ and $\\;\\boldsymbol{w}_2=(0,0,2)^t$.\n",
    "3. $\\boldsymbol{w}_1=(0,0,2)^t\\;$ and $\\;\\boldsymbol{w}_2=(0,2,0)^t$.\n",
    "4. All the above weight vectors define equivalent classifiers."
   ]
  },
  {
   "cell_type": "markdown",
   "metadata": {},
   "source": [
    "**Solution:** $\\;$ Option 2."
   ]
  }
 ],
 "metadata": {
  "kernelspec": {
   "display_name": "Python 3",
   "language": "python",
   "name": "python3"
  },
  "language_info": {
   "codemirror_mode": {
    "name": "ipython",
    "version": 3
   },
   "file_extension": ".py",
   "mimetype": "text/x-python",
   "name": "python",
   "nbconvert_exporter": "python",
   "pygments_lexer": "ipython3",
   "version": "3.8.10"
  }
 },
 "nbformat": 4,
 "nbformat_minor": 2
}
